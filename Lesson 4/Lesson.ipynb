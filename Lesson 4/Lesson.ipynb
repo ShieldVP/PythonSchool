{
 "cells": [
  {
   "cell_type": "markdown",
   "metadata": {
    "id": "m0fMdvd6HlhA"
   },
   "source": [
    "# Python 3. Занятие 4\n"
   ]
  },
  {
   "cell_type": "markdown",
   "metadata": {
    "id": "BMC8KSIf8B0T"
   },
   "source": [
    "## Объекты и классы"
   ]
  },
  {
   "cell_type": "markdown",
   "metadata": {
    "id": "4VM3sUmn_AXl"
   },
   "source": [
    "Основная идея ООП - выделить в программе отдельные сущности - объекты.\n",
    "\n",
    "**Примеры объектов из реальной жизни** - стол, чашка, человек, книга, здание и т.д.\n",
    "**Примеры объектов в программах** - пользователь, кнопка, сообщение.\n",
    "\n",
    "У объектов могут быть свои свойства, например, цвет, содержание или имя пользователя. Такие переменные (конкретные характеристики объекта) называются **атрибутами**.\n",
    "\n",
    "Возможные действия, например, \"отправить сообщение\", \"нанять сотрудника\", \"нажать кнопку\", называются **методами**. Это функции, которые описаны внутри объекта или класса. Они относятся к определенному объекту и позволяют взаимодействовать с ними или другими частями кода. \n",
    "\n",
    "Чтобы не создавать для каждого отдельного объекта свои методы (переиспользование кода), существуют классы. \n",
    "**Класс** — это «шаблон» для объекта, который описывает его атрибуты и методы Каждый объект — это экземпляр какого-нибудь класса.\n",
    "\n",
    "**Пример** - пишем систему учета сотрудников. Создадим класс \"Сотрудник\" с атрибутами: ФИО, должность, подразделение, руководитель, зарплата; и методами: \"перевести в другой отдел\", \"повысить зарплату\", \"сменить должность\", \"уволить\". Отдельный сотрудник, Вася Пупкин, является объектом - экземпляром класса \"Сотрудник\"."
   ]
  },
  {
   "cell_type": "markdown",
   "metadata": {
    "id": "hrE9HrLK_GuI"
   },
   "source": [
    "## Абстракция"
   ]
  },
  {
   "cell_type": "markdown",
   "metadata": {
    "id": "Uynr0X-X_LHF"
   },
   "source": [
    "Абстрагирование — это способ выделить набор наиболее важных атрибутов и методов и исключить незначимые. Соответственно, абстракция — это использование всех таких характеристик для описания объекта. Важно представить объект минимальным набором полей и методов без ущерба для решаемой задачи.\n",
    "\n",
    "Пример: объекту класса «программист» вряд ли понадобятся свойства «умение готовить еду» или «любимый цвет». Они не влияют на его особенности как программиста. А вот «основной язык программирования» и «рабочие навыки» — важные свойства, без которых программиста не опишешь.\n",
    "\n",
    "Набор атрибутов и методов, доступный извне, работает как интерфейс для доступа к объекту. Через них к нему могут обращаться другие структуры данных, причем им не обязательно знать, как именно объект устроен внутри.\n",
    "\n"
   ]
  },
  {
   "cell_type": "markdown",
   "metadata": {
    "id": "OnditD-g_Pyk"
   },
   "source": [
    "## Инкапсуляция"
   ]
  },
  {
   "cell_type": "markdown",
   "metadata": {
    "id": "oVy65Crc_RJX"
   },
   "source": [
    "**Каждый объект — независимая структура.** Он содержит в себе все, что ему нужно для работы. Если ему нужна какая-либо переменная, она будет описана в теле объекта, а не наружном коде. Это делает объекты более гибкими. Даже если внешний код перепишут, логика работы не изменится.\n",
    "\n",
    "Инкапсуляция позволяет спрятать от внешнего кода и других объектов детали реализации того или иного метода. Другим объектам не важно (и не нужно) знать как именно объект выполняет свою задачу, главное - что выполняет :)\n",
    "\n",
    "Таким образом, внутреннее устройство одного объекта закрыто от других: извне «видны» только значения атрибутов и результаты выполнения методов."
   ]
  },
  {
   "cell_type": "markdown",
   "metadata": {
    "id": "aUSzkku8BAJ5"
   },
   "source": [
    "## Наследование"
   ]
  },
  {
   "cell_type": "markdown",
   "metadata": {
    "id": "4OywS9aYBDFa"
   },
   "source": [
    "Позволяет создавать классы и объекты, которые похожи друг на друга, но немного отличаются, например, имеют дополнительные атрибуты или другие методы. Более общий класс в таком случае становится «родителем», а более специфичный и подробный — «наследником».\n",
    "\n",
    "Например, класс \"сотрудник\" может иметь наследные классы \"программист\", \"аналитик\" и \"тестировщик\", каждый из которых имеет собственные методы, например, \"запрограммировать\", \"проанализировать\", \"протестировать\", а остальные методы и атрибуты класса \"сотрудник\" будут присутствовать во всех дочерних классах. И наш Вася Пупкин будет и экземпляром класса \"сотрудник\", и класса \"программист\".\n",
    "\n",
    "У одного \"родителя\" может быть несколько дочерних классов, у одного дочернего класса может быть и несколько родительских.\n",
    "\n",
    "Наследование позволяет создавать сложные схемы с четкой иерархией \"от общего к частному\". Это облегчает понимание и масштабирование кода. Не нужно много раз переписывать в разных объектах одни и те же свойства. Достаточно унаследовать эти объекты от одного \"родителя\", и родительские свойства применятся автоматически."
   ]
  },
  {
   "cell_type": "markdown",
   "metadata": {
    "id": "oOrMvc2RDck9"
   },
   "source": [
    "## Полиморфизм"
   ]
  },
  {
   "cell_type": "markdown",
   "metadata": {
    "id": "gknaFCIADc7d"
   },
   "source": [
    "Одинаковые методы разных классов могут выполнять задачи разными способами. Например, у \"сотрудника\" есть метод \"работать\". У \"программиста\" реализация этого метода будет означать написание кода, а у \"тестировщика\" — рассмотрение управленческих вопросов. Но глобально и то, и другое будет работой.\n",
    "\n",
    "Тут важны единый подход и договоренности между специалистами. Если метод называется delete, то он должен что-то удалять. Как именно — зависит от объекта, но заниматься такой метод должен именно удалением. Более того: если оговорено, что «удаляющий» метод называется delete, то не нужно для какого-то объекта называть его remove или иначе. Это вносит путаницу в код."
   ]
  },
  {
   "cell_type": "markdown",
   "metadata": {
    "id": "qUsPA2zh8tvc"
   },
   "source": [
    "# Классы в Python"
   ]
  },
  {
   "cell_type": "markdown",
   "metadata": {
    "id": "nYKt3cfpOqMG"
   },
   "source": [
    "## Объявление класса и экземпляра"
   ]
  },
  {
   "cell_type": "markdown",
   "metadata": {
    "id": "dzJYh-_ACI8B"
   },
   "source": [
    "В Python объявление класса выполняется следующим образом:"
   ]
  },
  {
   "cell_type": "code",
   "execution_count": null,
   "metadata": {
    "id": "7mwbk4sk8tvd"
   },
   "outputs": [],
   "source": [
    "class MyLittleClass(object):  # название класса и родительский класс, родительский класс по умолчанию - object, его можно и не указывать\n",
    "#class MyLittleClass:\n",
    "    # Атрибут класса\n",
    "    color = \"blue\"\n",
    "    \n",
    "    # Метод\n",
    "    def set_color(self, new_color):\n",
    "        color = new_color\n",
    "        print('set color to', color)"
   ]
  },
  {
   "cell_type": "markdown",
   "metadata": {
    "id": "FvCFgvBICTi5"
   },
   "source": [
    "Создание объекта - экземпляра класса выглядит так:"
   ]
  },
  {
   "cell_type": "code",
   "execution_count": null,
   "metadata": {
    "id": "xak2eN558tvf"
   },
   "outputs": [],
   "source": [
    "obj = MyLittleClass()"
   ]
  },
  {
   "cell_type": "code",
   "execution_count": null,
   "metadata": {
    "colab": {
     "base_uri": "https://localhost:8080/"
    },
    "id": "ICwYtCfMqvaT",
    "outputId": "0f12ac6b-f599-41a7-e851-67a08b5fcb55"
   },
   "outputs": [],
   "source": [
    "type(obj)"
   ]
  },
  {
   "cell_type": "markdown",
   "metadata": {
    "id": "R2JLIMiiCpia"
   },
   "source": [
    "Обращение к атрибуту экземпляра выглядит следующим образом:"
   ]
  },
  {
   "cell_type": "code",
   "execution_count": null,
   "metadata": {
    "colab": {
     "base_uri": "https://localhost:8080/",
     "height": 34
    },
    "id": "u6o089eZCm4h",
    "outputId": "211bb3fb-5fe1-4b61-d23e-98698e697146"
   },
   "outputs": [],
   "source": [
    "obj.color"
   ]
  },
  {
   "cell_type": "markdown",
   "metadata": {
    "id": "tUaHwCf4CuVn"
   },
   "source": [
    "Вызов метода экземпляра выглядит так:"
   ]
  },
  {
   "cell_type": "code",
   "execution_count": null,
   "metadata": {
    "colab": {
     "base_uri": "https://localhost:8080/",
     "height": 52
    },
    "id": "H-W9CDTFCmbv",
    "outputId": "6e25684d-2f4c-4623-98ce-55103567a1c5"
   },
   "outputs": [],
   "source": [
    "obj.set_color('red')\n",
    "obj.color"
   ]
  },
  {
   "cell_type": "markdown",
   "metadata": {
    "id": "V_XErrJi8tvg"
   },
   "source": [
    "**Почему `color` внутри объекта не поменялся?**\n",
    "\n",
    "Потому что обращение к атрибутам класса должно иметь форму `self.attribute_name`, а `color` в методе `set_color` -- просто локальная переменная :)"
   ]
  },
  {
   "cell_type": "code",
   "execution_count": null,
   "metadata": {
    "id": "-a85FGS78tvh"
   },
   "outputs": [],
   "source": [
    "class MyLittleClass2:\n",
    "    color = \"blue\"\n",
    "    \n",
    "    def set_color(self, new_color):\n",
    "        self.color = new_color\n",
    "        print('set color to', self.color)"
   ]
  },
  {
   "cell_type": "code",
   "execution_count": null,
   "metadata": {
    "colab": {
     "base_uri": "https://localhost:8080/",
     "height": 34
    },
    "id": "ik326jQ18tvi",
    "outputId": "1d8a2bac-b37e-4e4c-ac85-dbb5eafc8c1c"
   },
   "outputs": [],
   "source": [
    "obj = MyLittleClass2()\n",
    "obj.color"
   ]
  },
  {
   "cell_type": "code",
   "execution_count": null,
   "metadata": {
    "colab": {
     "base_uri": "https://localhost:8080/",
     "height": 52
    },
    "id": "wDbRqmcOFGAq",
    "outputId": "7d1e8182-cccc-4461-fbc6-f68b42e49864"
   },
   "outputs": [],
   "source": [
    "obj.set_color('red')\n",
    "obj.color"
   ]
  },
  {
   "cell_type": "markdown",
   "metadata": {
    "id": "cnjP70NqEcEL"
   },
   "source": [
    "`self` - ссылка на \"себя\", на экземпляр класса, для которого хотим получить значение атрибута или вызвать метод. Является первым аргументом метода и используется внутри методов. "
   ]
  },
  {
   "cell_type": "markdown",
   "metadata": {
    "id": "UKOPmAXnEvMG"
   },
   "source": [
    "Можем ли мы напрямую поменять значение атрибута экземпляра?\n",
    "\n",
    "Можем, но это считается нехорошей практикой. Предпочтительнее писать т.н. методы-геттеры (для чтения значений атрибутов) и методы-сеттеры (для записи значений атрибутов)"
   ]
  },
  {
   "cell_type": "code",
   "execution_count": null,
   "metadata": {
    "colab": {
     "base_uri": "https://localhost:8080/",
     "height": 34
    },
    "id": "7HDAwT0n8tvj",
    "outputId": "c27116e5-6bb2-44a2-d61f-98ead73a55d9"
   },
   "outputs": [],
   "source": [
    "obj.color = 'green'\n",
    "obj.color"
   ]
  },
  {
   "cell_type": "markdown",
   "metadata": {
    "id": "edl4FNGXFLdW"
   },
   "source": [
    "**Замечание** - в Python все является объектом, даже сам класс, поэтому важно разделять методы и атрибуты экземпляров класса и самого класса:"
   ]
  },
  {
   "cell_type": "code",
   "execution_count": null,
   "metadata": {
    "colab": {
     "base_uri": "https://localhost:8080/",
     "height": 34
    },
    "id": "dUyKySTlFXOG",
    "outputId": "768e1f5b-1bae-425f-cc7d-9654db202e11"
   },
   "outputs": [],
   "source": [
    "MyLittleClass2.color"
   ]
  },
  {
   "cell_type": "code",
   "execution_count": null,
   "metadata": {
    "colab": {
     "base_uri": "https://localhost:8080/",
     "height": 34
    },
    "id": "So8VAVkNFYE3",
    "outputId": "30bed1f8-9502-4fab-8305-8db30c09adf6"
   },
   "outputs": [],
   "source": [
    "MyLittleClass2().color"
   ]
  },
  {
   "cell_type": "markdown",
   "metadata": {
    "id": "g2RBsWzbO-mK"
   },
   "source": [
    "## Метод-конструктор"
   ]
  },
  {
   "cell_type": "markdown",
   "metadata": {
    "id": "Tkof5ShdPDEm"
   },
   "source": [
    "Чтобы каждый раз не устанавливать состояние (значения аргументов) экземпляра класса, можем воспользоваться **конструктором** - особым методом, который вызывается при создании экземпляра класса:"
   ]
  },
  {
   "cell_type": "code",
   "execution_count": null,
   "metadata": {
    "id": "yTI69f1KPchK"
   },
   "outputs": [],
   "source": [
    "class MyLittleClass3:\n",
    "    #color = \"blue\"\n",
    "    \n",
    "    def __init__(self, name, color):\n",
    "        self.color = color\n",
    "        self.name = name\n",
    "\n",
    "    def set_color(self, new_color):\n",
    "        self.color = new_color\n",
    "        print('set color to', self.color)"
   ]
  },
  {
   "cell_type": "code",
   "execution_count": null,
   "metadata": {
    "colab": {
     "base_uri": "https://localhost:8080/",
     "height": 34
    },
    "id": "XZ26t2h4PljM",
    "outputId": "b865aa08-3831-4ccb-a36c-dd8a966fd047"
   },
   "outputs": [],
   "source": [
    "obj = MyLittleClass3(\"Walter\", \"White\")\n",
    "obj.color"
   ]
  },
  {
   "cell_type": "code",
   "execution_count": null,
   "metadata": {
    "colab": {
     "base_uri": "https://localhost:8080/",
     "height": 34
    },
    "id": "rZbQHwH3uBPp",
    "outputId": "29d83284-46fc-461d-cde8-a303e474fde5"
   },
   "outputs": [],
   "source": [
    "obj.name"
   ]
  },
  {
   "cell_type": "code",
   "execution_count": null,
   "metadata": {
    "colab": {
     "base_uri": "https://localhost:8080/",
     "height": 167
    },
    "id": "RYDQFxK3uRwx",
    "outputId": "61348933-32fe-4bce-8703-62101bc3c7a1"
   },
   "outputs": [],
   "source": [
    "obj.occupation"
   ]
  },
  {
   "cell_type": "markdown",
   "metadata": {
    "id": "zGxFo74ZPplK"
   },
   "source": [
    "## Динамичность атрибутов"
   ]
  },
  {
   "cell_type": "markdown",
   "metadata": {
    "id": "PIe8Vc4X8tvk"
   },
   "source": [
    "Мы также можем динамически определить атрибуты, которых вообще не было в определении класса:"
   ]
  },
  {
   "cell_type": "code",
   "execution_count": null,
   "metadata": {
    "colab": {
     "base_uri": "https://localhost:8080/"
    },
    "id": "THNbsf8_8tvl",
    "outputId": "50468a79-38bd-47ab-a979-3c4f779938ca"
   },
   "outputs": [],
   "source": [
    "obj.some_attribute = 42\n",
    "obj.some_attribute"
   ]
  },
  {
   "cell_type": "markdown",
   "metadata": {
    "id": "68Z7ar6J8tvm"
   },
   "source": [
    "Поговорим об аргументе `self` в определении метода. Когда мы вызываем метод как `obj.methodname()`, неявно первым аргументом передается ссылка на `obj` в качестве аргумента `self`:"
   ]
  },
  {
   "cell_type": "code",
   "execution_count": null,
   "metadata": {
    "id": "uSvwudNN8tvm"
   },
   "outputs": [],
   "source": [
    "class MyLittleClass4:\n",
    "    def method_without_self(arg):\n",
    "        print(arg)\n",
    "        \n",
    "    def method_with_self(self, arg):\n",
    "        print(arg)"
   ]
  },
  {
   "cell_type": "code",
   "execution_count": null,
   "metadata": {
    "colab": {
     "base_uri": "https://localhost:8080/",
     "height": 219
    },
    "id": "A2qvSIra8tvm",
    "outputId": "d05d4147-2356-43e1-a173-db31c1e1960f"
   },
   "outputs": [],
   "source": [
    "obj = MyLittleClass4()\n",
    "obj.method_with_self('i am an argument')\n",
    "obj.method_without_self('i am another argument') # здесь мы на самом деле передаем по два аргумента, self и arg"
   ]
  },
  {
   "cell_type": "markdown",
   "metadata": {
    "id": "K98X82Tz8tvn"
   },
   "source": [
    "Как вызвать методы без `self`? Они не привязаны к экземпляру класса (потому что не имеют доступа к его локальным данным), зато привязаны к классу:"
   ]
  },
  {
   "cell_type": "code",
   "execution_count": null,
   "metadata": {
    "colab": {
     "base_uri": "https://localhost:8080/"
    },
    "id": "rQqFL-2z8tvn",
    "outputId": "80d6113d-fe74-4720-dce5-25eb62648ba8"
   },
   "outputs": [],
   "source": [
    "MyLittleClass4.method_without_self('i am another argument') # а здесь мы передаем только один аргумент"
   ]
  },
  {
   "cell_type": "markdown",
   "metadata": {
    "id": "E5jKxFNQ8tvo"
   },
   "source": [
    "Поскольку все является объектом, то можно и \"оторвать\" метод от экземпляра:"
   ]
  },
  {
   "cell_type": "code",
   "execution_count": null,
   "metadata": {
    "colab": {
     "base_uri": "https://localhost:8080/"
    },
    "id": "GKGqoPRw8tvo",
    "outputId": "99f1868f-0a9e-4985-cd5e-6be317440ab9"
   },
   "outputs": [],
   "source": [
    "func = MyLittleClass4.method_without_self\n",
    "func(\"hello\")"
   ]
  },
  {
   "cell_type": "code",
   "execution_count": null,
   "metadata": {
    "colab": {
     "base_uri": "https://localhost:8080/",
     "height": 184
    },
    "id": "AyFT2kgS8tvp",
    "outputId": "dd4e78bc-c111-4ee9-9f4c-c69f4cee7d76"
   },
   "outputs": [],
   "source": [
    "func2 = MyLittleClass4.method_with_self\n",
    "func2(\"hello\") # передаем один аргумент"
   ]
  },
  {
   "cell_type": "markdown",
   "metadata": {
    "id": "TPpq6-79F72s"
   },
   "source": [
    "Получили ошибку, т.к. не передали объект для аргумента `self`."
   ]
  },
  {
   "cell_type": "code",
   "execution_count": null,
   "metadata": {
    "colab": {
     "base_uri": "https://localhost:8080/"
    },
    "id": "W8w9YwHh8tvp",
    "outputId": "4b2c02e7-2fa7-464a-d99e-06d165da2bce"
   },
   "outputs": [],
   "source": [
    "obj = MyLittleClass4()\n",
    "func2(obj, \"hello\")"
   ]
  },
  {
   "cell_type": "markdown",
   "metadata": {
    "id": "gcYz4_tw8tvq"
   },
   "source": [
    "А можем и наоборот привязать существующую функцию к объекту:"
   ]
  },
  {
   "cell_type": "code",
   "execution_count": null,
   "metadata": {
    "colab": {
     "base_uri": "https://localhost:8080/",
     "height": 167
    },
    "id": "pL_qjxrV8tvq",
    "outputId": "ffe237b2-5a78-4601-d52f-f678d3df12a4"
   },
   "outputs": [],
   "source": [
    "obj.get_color()"
   ]
  },
  {
   "cell_type": "code",
   "execution_count": null,
   "metadata": {
    "id": "tK0Tt1gf8tvr"
   },
   "outputs": [],
   "source": [
    "def get_color_function(self):\n",
    "    return self.color"
   ]
  },
  {
   "cell_type": "code",
   "execution_count": null,
   "metadata": {
    "colab": {
     "base_uri": "https://localhost:8080/",
     "height": 271
    },
    "id": "1c5UXM1DGM-e",
    "outputId": "ff860cd2-f35c-432c-f553-c365cd02d20c"
   },
   "outputs": [],
   "source": [
    "MyLittleClass4.get_color = get_color_function\n",
    "obj = MyLittleClass4()\n",
    "obj.get_color()"
   ]
  },
  {
   "cell_type": "markdown",
   "metadata": {
    "id": "ld9rbN5t8tvr"
   },
   "source": [
    "Ах да, цвета-то у нас нет. Не проблема - добавим атрибут `color` к экземпляру?"
   ]
  },
  {
   "cell_type": "code",
   "execution_count": null,
   "metadata": {
    "colab": {
     "base_uri": "https://localhost:8080/",
     "height": 34
    },
    "id": "ipimnuWx8tvr",
    "outputId": "9ed80ee5-983b-4f5f-d908-89bb9b6a485d"
   },
   "outputs": [],
   "source": [
    "obj.color = 'pink'\n",
    "obj.get_color()"
   ]
  },
  {
   "cell_type": "markdown",
   "metadata": {
    "id": "NrHb_ABjRIX-"
   },
   "source": [
    "Но сейчас атрибут `color` есть только у объекта `obj`, создадим новый объект и посмотрим есть ли у него атрибут `color`:"
   ]
  },
  {
   "cell_type": "code",
   "execution_count": null,
   "metadata": {
    "colab": {
     "base_uri": "https://localhost:8080/",
     "height": 254
    },
    "id": "DIWap6XsGBKn",
    "outputId": "a7f75af2-4c10-44f1-afbc-707952f87d15"
   },
   "outputs": [],
   "source": [
    "obj2 = MyLittleClass4()\n",
    "obj2.get_color()"
   ]
  },
  {
   "cell_type": "markdown",
   "metadata": {
    "id": "2cDbGDkwGVh-"
   },
   "source": [
    "Нужно добавить атрибут не к одному экземпляру класса, а ко всему классу:"
   ]
  },
  {
   "cell_type": "code",
   "execution_count": null,
   "metadata": {
    "colab": {
     "base_uri": "https://localhost:8080/",
     "height": 34
    },
    "id": "p_-Yi9W1GKoU",
    "outputId": "60eb9093-22c5-44d7-dcfd-f8f72d5335c2"
   },
   "outputs": [],
   "source": [
    "MyLittleClass4.color = 'green'\n",
    "obj3 = MyLittleClass4()\n",
    "obj3.get_color()"
   ]
  },
  {
   "cell_type": "code",
   "execution_count": null,
   "metadata": {
    "colab": {
     "base_uri": "https://localhost:8080/"
    },
    "id": "yyUbYFSzI-iI",
    "outputId": "fa1c2e27-ac7a-4d39-eca7-9dfaac20f4f9"
   },
   "outputs": [],
   "source": [
    "obj3.color == MyLittleClass4.color"
   ]
  },
  {
   "cell_type": "code",
   "execution_count": null,
   "metadata": {
    "colab": {
     "base_uri": "https://localhost:8080/",
     "height": 34
    },
    "id": "eYrAwfYzxZIS",
    "outputId": "c440c919-e08a-42d5-ab4f-8fb1400ee31a"
   },
   "outputs": [],
   "source": [
    "obj.color"
   ]
  },
  {
   "cell_type": "code",
   "execution_count": null,
   "metadata": {
    "colab": {
     "base_uri": "https://localhost:8080/",
     "height": 34
    },
    "id": "G-vC6P_oxeQh",
    "outputId": "e18fccbf-b120-4946-a8d9-4f240e2d6ecc"
   },
   "outputs": [],
   "source": [
    "obj2.color"
   ]
  },
  {
   "cell_type": "markdown",
   "metadata": {
    "id": "C63rBf-xIW4i"
   },
   "source": [
    "## Приватность атрибутов"
   ]
  },
  {
   "cell_type": "markdown",
   "metadata": {
    "id": "7b_vCFaFJYad"
   },
   "source": [
    "Во многих языках программирования можно регулировать доступ до атрибутов класса от внешнего кода и других классов. Обычно выделяют три уровня доступа:\n",
    "- публичный - атрибуты доступны как внутри класса, так и из наружнего кода\n",
    "- защищенный - атрибуты доступны внутри класса и для наследников класса\n",
    "- приватный - атрибуты доступны только внутри класса"
   ]
  },
  {
   "cell_type": "markdown",
   "metadata": {
    "id": "svmbSvN18tvy"
   },
   "source": [
    "А есть ли в Python приватность атрибутов? Можем ли мы запретить читать и менять атрибуты объекта снаружи (внешним кодом)?"
   ]
  },
  {
   "cell_type": "code",
   "execution_count": null,
   "metadata": {
    "id": "_iuASScu8tvy"
   },
   "outputs": [],
   "source": [
    "class VeryPrivateDataHolder:\n",
    "    not_secret = 0     # public\n",
    "    _secret = 1        # protected\n",
    "    __very_secret = 2  # private"
   ]
  },
  {
   "cell_type": "code",
   "execution_count": null,
   "metadata": {
    "id": "mRYfzczI8tvy"
   },
   "outputs": [],
   "source": [
    "obj = VeryPrivateDataHolder()"
   ]
  },
  {
   "cell_type": "code",
   "execution_count": null,
   "metadata": {
    "colab": {
     "base_uri": "https://localhost:8080/"
    },
    "id": "P5ZSyeW9Kye5",
    "outputId": "14840107-0ba5-46b6-853d-1bede6feea79"
   },
   "outputs": [],
   "source": [
    "obj.not_secret"
   ]
  },
  {
   "cell_type": "code",
   "execution_count": null,
   "metadata": {
    "colab": {
     "base_uri": "https://localhost:8080/"
    },
    "id": "finNrT9CKv52",
    "outputId": "9e859ac6-76ac-47f8-e5ae-1759d797941b"
   },
   "outputs": [],
   "source": [
    "obj._secret"
   ]
  },
  {
   "cell_type": "code",
   "execution_count": null,
   "metadata": {
    "colab": {
     "base_uri": "https://localhost:8080/",
     "height": 167
    },
    "id": "biUg4WByKxkK",
    "outputId": "a85fe46e-587b-40d1-e3f2-11218158f602"
   },
   "outputs": [],
   "source": [
    "obj.__very_secret"
   ]
  },
  {
   "cell_type": "markdown",
   "metadata": {
    "id": "bbciyFza8tvy"
   },
   "source": [
    "Казалось бы, в Python всё-таки есть приватность, но есть нюанс:"
   ]
  },
  {
   "cell_type": "code",
   "execution_count": null,
   "metadata": {
    "colab": {
     "base_uri": "https://localhost:8080/"
    },
    "id": "8CAL_QRy8tvy",
    "outputId": "224f2ed0-a0aa-41f4-9833-42e4dd7fda13"
   },
   "outputs": [],
   "source": [
    "obj._VeryPrivateDataHolder__very_secret"
   ]
  },
  {
   "cell_type": "markdown",
   "metadata": {
    "id": "17sN5LhkItL5"
   },
   "source": [
    "Т.е. при желании все же можем получить доступ к \"приватным\" атрибутом, но делать так не рекомендуется, особенно не со своими классами!"
   ]
  },
  {
   "cell_type": "code",
   "execution_count": null,
   "metadata": {
    "colab": {
     "base_uri": "https://localhost:8080/",
     "height": 34
    },
    "id": "pXLwM5g88tvz",
    "outputId": "45fc46fa-9c83-46be-86fb-8e41e3505b12"
   },
   "outputs": [],
   "source": [
    "obj._VeryPrivateDataHolder__very_secret = 'new secret'\n",
    "obj._VeryPrivateDataHolder__very_secret"
   ]
  },
  {
   "cell_type": "code",
   "execution_count": null,
   "metadata": {
    "colab": {
     "base_uri": "https://localhost:8080/",
     "height": 167
    },
    "id": "k2oC_WE4PbjW",
    "outputId": "c57666b1-dd6d-4ed6-d3bc-a1dd9a940774"
   },
   "outputs": [],
   "source": [
    "VeryPrivateDataHolder.__very_secret"
   ]
  },
  {
   "cell_type": "markdown",
   "metadata": {
    "id": "_nwkm282NnE1"
   },
   "source": [
    "## Наследование"
   ]
  },
  {
   "cell_type": "markdown",
   "metadata": {
    "id": "yJBRpQ-nNwtK"
   },
   "source": [
    "Рассмотрим как работает наследование в Python с помощью следующих классов:"
   ]
  },
  {
   "cell_type": "code",
   "execution_count": null,
   "metadata": {
    "id": "4Q1J9BqmN59a"
   },
   "outputs": [],
   "source": [
    "class Animal:  # неявно наследуется от класса object\n",
    "    some_value = \"animal\"\n",
    "\n",
    "    def __init__(self):\n",
    "        print(\"i am an animal\")\n",
    "    \n",
    "    def speak(self):\n",
    "        raise NotImplementedError('i don\\'t know how to speak')  # ошибка, показывающая что метод еще не реализован"
   ]
  },
  {
   "cell_type": "code",
   "execution_count": null,
   "metadata": {
    "id": "UZoLugjoOAM7"
   },
   "outputs": [],
   "source": [
    "class Cat(Animal):\n",
    "    some_value = \"cat\"\n",
    "\n",
    "    def __init__(self):\n",
    "        super().__init__()\n",
    "        print(\"i am a cat\")\n",
    "    \n",
    "    def speak(self):\n",
    "        print('meoooow')"
   ]
  },
  {
   "cell_type": "code",
   "execution_count": null,
   "metadata": {
    "id": "nOawrxOhOBrP"
   },
   "outputs": [],
   "source": [
    "class Dog(Animal):\n",
    "    some_value = \"dog\"\n",
    "    \n",
    "    def __init__(self):\n",
    "        super().__init__()\n",
    "        print(\"i am a dog\")"
   ]
  },
  {
   "cell_type": "code",
   "execution_count": null,
   "metadata": {
    "id": "c4GYd4F9Ntw7"
   },
   "outputs": [],
   "source": [
    "class Hedgehog(Animal):\n",
    "    def __init__(self):\n",
    "        super().__init__()\n",
    "        print(\"i am a hedgehog\")"
   ]
  },
  {
   "cell_type": "code",
   "execution_count": null,
   "metadata": {
    "colab": {
     "base_uri": "https://localhost:8080/",
     "height": 323
    },
    "id": "THacMee3NxRd",
    "outputId": "e73391db-9f14-4f2a-8e43-f01b6cfd27a8"
   },
   "outputs": [],
   "source": [
    "animal = Animal()\n",
    "print(animal.some_value)\n",
    "animal.speak()"
   ]
  },
  {
   "cell_type": "code",
   "execution_count": null,
   "metadata": {
    "colab": {
     "base_uri": "https://localhost:8080/"
    },
    "id": "-cXPv8xvXe0m",
    "outputId": "8492742b-a66f-4c45-a7f0-eceebc3b77a0"
   },
   "outputs": [],
   "source": [
    "cat = Cat()"
   ]
  },
  {
   "cell_type": "code",
   "execution_count": null,
   "metadata": {
    "colab": {
     "base_uri": "https://localhost:8080/",
     "height": 35
    },
    "id": "3gwKICmpCQ4b",
    "outputId": "600c6e3f-1e58-47d6-bbb7-70cd8646c6df"
   },
   "outputs": [],
   "source": [
    "cat.some_value # переопределено"
   ]
  },
  {
   "cell_type": "code",
   "execution_count": null,
   "metadata": {
    "colab": {
     "base_uri": "https://localhost:8080/"
    },
    "id": "T9AZV0xXCSfN",
    "outputId": "fc3470d5-2e30-4afe-97a7-24e821ece274"
   },
   "outputs": [],
   "source": [
    "cat.speak()"
   ]
  },
  {
   "cell_type": "code",
   "execution_count": null,
   "metadata": {
    "colab": {
     "base_uri": "https://localhost:8080/"
    },
    "id": "dd7WBjq0XgJ5",
    "outputId": "2fbff0ab-dc92-4864-fc20-094b36ee1437"
   },
   "outputs": [],
   "source": [
    "dog = Dog()"
   ]
  },
  {
   "cell_type": "code",
   "execution_count": null,
   "metadata": {
    "colab": {
     "base_uri": "https://localhost:8080/",
     "height": 34
    },
    "id": "USoFSSFfCvgu",
    "outputId": "039786bd-57b9-497a-e009-2be28f680f7c"
   },
   "outputs": [],
   "source": [
    "dog.some_value # переопределено"
   ]
  },
  {
   "cell_type": "code",
   "execution_count": null,
   "metadata": {
    "colab": {
     "base_uri": "https://localhost:8080/",
     "height": 254
    },
    "id": "vZNgGiF4CwqS",
    "outputId": "646c1e30-566e-4c60-933d-44ce7cedde73"
   },
   "outputs": [],
   "source": [
    "dog.speak()"
   ]
  },
  {
   "cell_type": "code",
   "execution_count": null,
   "metadata": {
    "colab": {
     "base_uri": "https://localhost:8080/"
    },
    "id": "Ixm_WBFLC_sv",
    "outputId": "b276f7ee-ee96-4632-b815-0548bf8f2994"
   },
   "outputs": [],
   "source": [
    "hedgehog = Hedgehog()"
   ]
  },
  {
   "cell_type": "code",
   "execution_count": null,
   "metadata": {
    "colab": {
     "base_uri": "https://localhost:8080/",
     "height": 34
    },
    "id": "T3f630xBDDZ8",
    "outputId": "c61dda3c-8c89-4cf2-d3dc-0aa8faf634e4"
   },
   "outputs": [],
   "source": [
    "hedgehog.some_value"
   ]
  },
  {
   "cell_type": "code",
   "execution_count": null,
   "metadata": {
    "colab": {
     "base_uri": "https://localhost:8080/",
     "height": 254
    },
    "id": "zPCUxdvODP98",
    "outputId": "3f6cbb4b-a945-472a-fbde-e4cd78570c26"
   },
   "outputs": [],
   "source": [
    "hedgehog.speak()"
   ]
  },
  {
   "cell_type": "markdown",
   "metadata": {
    "id": "JfgQNmBsNxuW"
   },
   "source": [
    "Ромбовидное наследование возможно, но не делайте так, пожалуйста!"
   ]
  },
  {
   "cell_type": "code",
   "execution_count": null,
   "metadata": {
    "id": "_OQul2rKRPYU"
   },
   "outputs": [],
   "source": [
    "#      Animal\n",
    "#    /       \\ \n",
    "#  Cat       Dog\n",
    "#    \\       /\n",
    "#      CatDog"
   ]
  },
  {
   "cell_type": "code",
   "execution_count": null,
   "metadata": {
    "id": "C3O0wR3LN2Z9"
   },
   "outputs": [],
   "source": [
    "class CatDog(Cat, Dog): \n",
    "    def __init__(self):\n",
    "        super().__init__()\n",
    "        print(\"i am a CatDog!\")"
   ]
  },
  {
   "cell_type": "code",
   "execution_count": null,
   "metadata": {
    "colab": {
     "base_uri": "https://localhost:8080/",
     "height": 104
    },
    "id": "mkKBiyZsODGu",
    "outputId": "03158292-6225-4cec-ef85-27032957be3a"
   },
   "outputs": [],
   "source": [
    "catdog = CatDog()\n",
    "catdog.some_value"
   ]
  },
  {
   "cell_type": "markdown",
   "metadata": {
    "id": "TFbElcmmOBjL"
   },
   "source": [
    "Порядок перечисления родителей важен!"
   ]
  },
  {
   "cell_type": "code",
   "execution_count": null,
   "metadata": {
    "colab": {
     "base_uri": "https://localhost:8080/",
     "height": 104
    },
    "id": "eFUlsOS2OFTb",
    "outputId": "67cf0520-5818-466c-94a8-b4c1397c2094",
    "scrolled": true
   },
   "outputs": [],
   "source": [
    "class DogCat(Dog, Cat):  # теперь наоборот\n",
    "    def __init__(self):\n",
    "        super().__init__()\n",
    "        print(\"i am a CatDog!\")\n",
    "\n",
    "dogcat = DogCat()\n",
    "dogcat.some_value"
   ]
  },
  {
   "cell_type": "markdown",
   "metadata": {
    "id": "aCdC9XwLGTbM"
   },
   "source": [
    "# Строки\n"
   ]
  },
  {
   "cell_type": "markdown",
   "metadata": {
    "id": "Axk5x3VQG92P"
   },
   "source": [
    "## Базовый синтаксис"
   ]
  },
  {
   "cell_type": "markdown",
   "metadata": {
    "id": "ulOvwhQNGTbP"
   },
   "source": [
    "Базовые преобразования строк:"
   ]
  },
  {
   "cell_type": "code",
   "execution_count": null,
   "metadata": {
    "colab": {
     "base_uri": "https://localhost:8080/",
     "height": 35
    },
    "id": "L_8teZ96HYcD",
    "outputId": "13f8cbf2-dd81-4e95-b7c0-72c1cbc740b0"
   },
   "outputs": [],
   "source": [
    "s = 'Lorem ipsum dolor sit amet, consectetur adipiscing elit!!'\n",
    "s"
   ]
  },
  {
   "cell_type": "code",
   "execution_count": null,
   "metadata": {
    "colab": {
     "base_uri": "https://localhost:8080/",
     "height": 35
    },
    "id": "0HbsbYPhHZM3",
    "outputId": "6c1eb0f0-3230-40f9-d2f0-0e0f877121cf"
   },
   "outputs": [],
   "source": [
    "s.upper()"
   ]
  },
  {
   "cell_type": "code",
   "execution_count": null,
   "metadata": {
    "colab": {
     "base_uri": "https://localhost:8080/",
     "height": 35
    },
    "id": "5p3dmHjOHaDK",
    "outputId": "750fa61e-c245-4b60-e16a-875a1cba660b"
   },
   "outputs": [],
   "source": [
    "s.lower()"
   ]
  },
  {
   "cell_type": "code",
   "execution_count": null,
   "metadata": {
    "colab": {
     "base_uri": "https://localhost:8080/",
     "height": 35
    },
    "id": "JUdqB983HbEH",
    "outputId": "9eb6f5cf-19c7-4409-8824-28c4eee9c2d2"
   },
   "outputs": [],
   "source": [
    "s.lower().capitalize()"
   ]
  },
  {
   "cell_type": "code",
   "execution_count": null,
   "metadata": {
    "colab": {
     "base_uri": "https://localhost:8080/",
     "height": 35
    },
    "id": "U1Yv7v-NGTbP",
    "outputId": "a9351f7d-66ca-48f2-d4d7-c65091f5dcdb"
   },
   "outputs": [],
   "source": [
    "s.title()"
   ]
  },
  {
   "cell_type": "markdown",
   "metadata": {
    "id": "dnF1ImSvGTbP"
   },
   "source": [
    "## Поиск подстроки в строке"
   ]
  },
  {
   "cell_type": "markdown",
   "metadata": {
    "id": "ck60UitEHlDs"
   },
   "source": [
    "Для проверки есть ли в строке искомая подстрока можно использовать оператор `in`:"
   ]
  },
  {
   "cell_type": "code",
   "execution_count": null,
   "metadata": {
    "colab": {
     "base_uri": "https://localhost:8080/"
    },
    "id": "Q_ALSMSDGTbQ",
    "outputId": "fe7c5cef-874a-40bc-c111-25fec44fb6fe"
   },
   "outputs": [],
   "source": [
    "'lorem' in s"
   ]
  },
  {
   "cell_type": "code",
   "execution_count": null,
   "metadata": {
    "colab": {
     "base_uri": "https://localhost:8080/"
    },
    "id": "yw5IQWxJHmky",
    "outputId": "9a83faef-6528-4a20-93ff-d681f3ea591f"
   },
   "outputs": [],
   "source": [
    "'lorem' in s.lower()"
   ]
  },
  {
   "cell_type": "markdown",
   "metadata": {
    "id": "uBXhkI_LGTbQ"
   },
   "source": [
    "Чтобы найти где именно есть подстрока в строке удобно использовать методы `find` и `index`:"
   ]
  },
  {
   "cell_type": "code",
   "execution_count": null,
   "metadata": {
    "colab": {
     "base_uri": "https://localhost:8080/"
    },
    "id": "kAnd6kP0GTbQ",
    "outputId": "0b3c98cb-30e0-459b-cf40-c8613492cc83"
   },
   "outputs": [],
   "source": [
    "s.find('ipsum') # возвращает индекс первого вхождения"
   ]
  },
  {
   "cell_type": "code",
   "execution_count": null,
   "metadata": {
    "colab": {
     "base_uri": "https://localhost:8080/"
    },
    "id": "RbLnhXkCHoxv",
    "outputId": "e0ae43d0-ae08-41f1-ad80-9486bf3bfe29"
   },
   "outputs": [],
   "source": [
    "s.find('nonexistent') # или -1 "
   ]
  },
  {
   "cell_type": "code",
   "execution_count": null,
   "metadata": {
    "colab": {
     "base_uri": "https://localhost:8080/"
    },
    "id": "MmCkMgdDGTbQ",
    "outputId": "4950be56-f90f-44df-d54d-d8c33ae33554"
   },
   "outputs": [],
   "source": [
    "s.index('ipsum')"
   ]
  },
  {
   "cell_type": "code",
   "execution_count": null,
   "metadata": {
    "colab": {
     "base_uri": "https://localhost:8080/",
     "height": 168
    },
    "id": "y9ecBVgkHqur",
    "outputId": "ea6703b0-a3ca-4531-960f-ae9d0d4f007a"
   },
   "outputs": [],
   "source": [
    "s.index('nonexistent')"
   ]
  },
  {
   "cell_type": "markdown",
   "metadata": {
    "id": "MKFCKalFGTbQ"
   },
   "source": [
    "## Анализ строки"
   ]
  },
  {
   "cell_type": "markdown",
   "metadata": {
    "id": "TFFlVE4EHs2u"
   },
   "source": [
    "Можем проверять из каких символов состоит строка:"
   ]
  },
  {
   "cell_type": "code",
   "execution_count": null,
   "metadata": {
    "colab": {
     "base_uri": "https://localhost:8080/"
    },
    "id": "Gu82EaONGTbR",
    "outputId": "77f727ef-c5a1-4754-8ba8-09173e4447e2"
   },
   "outputs": [],
   "source": [
    "strings = ['abc', '2', '   ']\n",
    "\n",
    "print('\\t\\t'.join('string isalpha isdigit isspace'.split()))\n",
    "for s in strings:\n",
    "    print(\"'\" + s + \"'\", s.isalpha(), s.isdigit(), s.isspace(), sep='\\t\\t')"
   ]
  },
  {
   "cell_type": "markdown",
   "metadata": {
    "id": "AxKD2bOMGTbR"
   },
   "source": [
    "Дополнительные методы - `startswith`, `endswith`, `strip`."
   ]
  },
  {
   "cell_type": "code",
   "execution_count": null,
   "metadata": {
    "id": "kBBD6_ahGTbR",
    "outputId": "3ff2ca04-0ab3-4618-e52a-5685cbc702e2"
   },
   "outputs": [],
   "source": [
    "'Hello, world!'.startswith('Hel')"
   ]
  },
  {
   "cell_type": "code",
   "execution_count": null,
   "metadata": {
    "id": "zYb2dLxdHy4e"
   },
   "outputs": [],
   "source": [
    "'Hello, world!'.endswith('world')"
   ]
  },
  {
   "cell_type": "code",
   "execution_count": null,
   "metadata": {
    "id": "x7n0kHhYHzyW"
   },
   "outputs": [],
   "source": [
    "'    Hello world    '.strip()"
   ]
  },
  {
   "cell_type": "markdown",
   "metadata": {
    "id": "0DjoKt0BGTbR"
   },
   "source": [
    "# Форматирование строк"
   ]
  },
  {
   "cell_type": "markdown",
   "metadata": {
    "id": "lY0huDq-GTbS"
   },
   "source": [
    "## f-строки"
   ]
  },
  {
   "cell_type": "markdown",
   "metadata": {
    "id": "C9b73xI2IL42"
   },
   "source": [
    "**f-строки** - более новый и удобный способ форматирования строк, добавлен в Python 3.6:"
   ]
  },
  {
   "cell_type": "code",
   "execution_count": null,
   "metadata": {
    "colab": {
     "base_uri": "https://localhost:8080/",
     "height": 35
    },
    "id": "ezmRFCKDGTbS",
    "outputId": "56a57ceb-7852-430d-e1d2-51e723e04e06"
   },
   "outputs": [],
   "source": [
    "year = 2023\n",
    "f'В {year}-м году проходит курс по Python 3' # Обратите внимание на символ f перед строкой"
   ]
  },
  {
   "cell_type": "markdown",
   "metadata": {
    "id": "RGcgcktSGTbT"
   },
   "source": [
    "f-строки поддерживают форматирование чисел:"
   ]
  },
  {
   "cell_type": "code",
   "execution_count": null,
   "metadata": {
    "colab": {
     "base_uri": "https://localhost:8080/",
     "height": 35
    },
    "id": "0ERUtMMVGTbT",
    "outputId": "8e23492d-9b7a-4c50-e280-8fb7686f275d"
   },
   "outputs": [],
   "source": [
    "year = 2023\n",
    "season = 7\n",
    "\n",
    "# .2f - вещественное число с двумя знаками после запятой\n",
    "f'В {year: .2f}-м году проходит курс по Python 3'"
   ]
  },
  {
   "cell_type": "markdown",
   "metadata": {
    "id": "Ot3YG90OGTbT"
   },
   "source": [
    "Внутри f-строк можно выполнять различные операции:"
   ]
  },
  {
   "cell_type": "code",
   "execution_count": null,
   "metadata": {
    "id": "omJoT9BkGTbT",
    "outputId": "c28ce741-ca44-45f2-9df0-89ab98bd8437"
   },
   "outputs": [],
   "source": [
    "year = 2023\n",
    "\n",
    "f'В {year}-м году проходит курс по Python 3'"
   ]
  },
  {
   "cell_type": "markdown",
   "metadata": {
    "id": "B8Mvov97GTbT"
   },
   "source": [
    "Можно обращаться к элементам списков по индексу:"
   ]
  },
  {
   "cell_type": "code",
   "execution_count": null,
   "metadata": {
    "id": "75iktgkgGTbT",
    "outputId": "1f025df9-34f2-420d-e1d3-7749fadacc9b"
   },
   "outputs": [],
   "source": [
    "years = [2023, 2024, 2025]\n",
    "\n",
    "f'В {years[0]}-м году проходит курс по Python 3'"
   ]
  },
  {
   "cell_type": "markdown",
   "metadata": {
    "id": "wYB_la7ZGTbT"
   },
   "source": [
    "И даже использовать функции и методы:"
   ]
  },
  {
   "cell_type": "code",
   "execution_count": null,
   "metadata": {
    "id": "OSXbawm6GTbU",
    "outputId": "7158b587-b3c8-468a-8851-3909ec7669bc"
   },
   "outputs": [],
   "source": [
    "year = 2023\n",
    "season = 7\n",
    "name = 'Python 3'\n",
    "\n",
    "f'В {year}-м году проходит курс по {name.upper()}'"
   ]
  },
  {
   "cell_type": "markdown",
   "metadata": {
    "id": "iiHkHBYYGTbX"
   },
   "source": [
    "# Регулярные выражения"
   ]
  },
  {
   "cell_type": "markdown",
   "metadata": {
    "id": "aJSi9_jsKKUS"
   },
   "source": [
    "**Регулярные выражения** - формальный язык поиска и осуществления манипуляций с подстроками в тексте, основанный на использовании метасимволов (`. ˆ $ * + ? { } [ ] | ( )`)"
   ]
  },
  {
   "cell_type": "markdown",
   "metadata": {
    "id": "6HPq1EZYONlC"
   },
   "source": [
    "![xkcd-re](https://imgs.xkcd.com/comics/regular_expressions.png)\n",
    "\n",
    "*Source: [xkcd](https://imgs.xkcd.com/comics/regular_expressions.png)*"
   ]
  },
  {
   "cell_type": "markdown",
   "metadata": {
    "id": "F53QnkQxObRG"
   },
   "source": [
    "В Python для работы с регулярными выражениями существует модуль `re`. \n",
    "\n",
    "Для поиска всех непересекающихся вхождений регулярного выражения используется `re.findall`:"
   ]
  },
  {
   "cell_type": "code",
   "execution_count": null,
   "metadata": {
    "id": "ydnh_j_9GTbX"
   },
   "outputs": [],
   "source": [
    "import re\n",
    "\n",
    "string = '__abc__acc__abcd__a6c__a66c'"
   ]
  },
  {
   "cell_type": "code",
   "execution_count": null,
   "metadata": {
    "colab": {
     "base_uri": "https://localhost:8080/"
    },
    "id": "dY0CaUxrwXKl",
    "outputId": "9b06ab25-f38e-4dfa-f60c-23fe406d8a5b"
   },
   "outputs": [],
   "source": [
    "re.findall(r'abc', string)"
   ]
  },
  {
   "cell_type": "code",
   "execution_count": null,
   "metadata": {
    "colab": {
     "base_uri": "https://localhost:8080/"
    },
    "id": "UcaxZ0rNwY7E",
    "outputId": "a5ea8ff9-296a-49b9-8521-fc5958c1a476"
   },
   "outputs": [],
   "source": [
    "re.findall(r'a\\dc', string)"
   ]
  },
  {
   "cell_type": "code",
   "execution_count": null,
   "metadata": {
    "colab": {
     "base_uri": "https://localhost:8080/"
    },
    "id": "UuFftPwqwajT",
    "outputId": "538908dc-020f-44bd-d96c-fd05e594409e"
   },
   "outputs": [],
   "source": [
    "re.findall(r'a\\w+c', string)"
   ]
  },
  {
   "cell_type": "markdown",
   "metadata": {
    "id": "mApJavLnGTbY"
   },
   "source": [
    "Можем заменять части строки с помощью регулярных выражений:"
   ]
  },
  {
   "cell_type": "code",
   "execution_count": null,
   "metadata": {
    "colab": {
     "base_uri": "https://localhost:8080/",
     "height": 35
    },
    "id": "k27f_FA8GTbY",
    "outputId": "2a6cbe83-46ed-4090-b115-4c7646a23776"
   },
   "outputs": [],
   "source": [
    "re.sub(r'a\\wc', '***', string)"
   ]
  },
  {
   "cell_type": "markdown",
   "metadata": {
    "id": "fGeD3xQPOdiT"
   },
   "source": [
    "Регулярки порой сложно дебажить, на помощь приходит https://regex101.com/"
   ]
  }
 ],
 "metadata": {
  "celltoolbar": "Slideshow",
  "colab": {
   "provenance": []
  },
  "kernelspec": {
   "display_name": "Python 3 (ipykernel)",
   "language": "python",
   "name": "python3"
  },
  "language_info": {
   "codemirror_mode": {
    "name": "ipython",
    "version": 3
   },
   "file_extension": ".py",
   "mimetype": "text/x-python",
   "name": "python",
   "nbconvert_exporter": "python",
   "pygments_lexer": "ipython3",
   "version": "3.10.10"
  }
 },
 "nbformat": 4,
 "nbformat_minor": 1
}
