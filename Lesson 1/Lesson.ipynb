{
 "cells": [
  {
   "cell_type": "markdown",
   "id": "e02dd824",
   "metadata": {},
   "source": [
    "# Python 3. Занятие 1"
   ]
  },
  {
   "cell_type": "markdown",
   "id": "aaf2815e",
   "metadata": {},
   "source": [
    "Особая благодарность [Евгению Баулину](https://github.com/febos) за основу методических материалов"
   ]
  },
  {
   "cell_type": "markdown",
   "id": "5adeef7c",
   "metadata": {},
   "source": [
    "## Историческая ремарка\n",
    "\n",
    "<img src=\"images/guido.jpg\" align=\"right\" style=\"height: 240px;\"/>\n",
    "\n",
    "Язык Python разрабатывался Гвидо ван Россумом с 1989 г. Назван в честь популярного британского комедийного телешоу 1970-х \"Летающий цирк Монти Пайтона\"\n",
    "\n",
    "Наиболее важные версии so far:\n",
    "\n",
    "- Python 1.0 — январь 1994\n",
    "- Python 2.0 — 16.10.2000\n",
    "  - Python 2.7 - 03.07.2010\n",
    "- Python 3.0 — 03.12.2008\n",
    "  - Python 3.11 - 08.02.2023\n",
    "\n",
    "Сейчас поддерживаются только Python 3.x, поддержка Python 2 была остановлена в 2020 году, между собой эти версии синтаксически несовместимы."
   ]
  },
  {
   "cell_type": "markdown",
   "id": "dd129cca",
   "metadata": {},
   "source": [
    "## Несколько общих фактов про язык\n",
    "\n",
    "### Интерпретируемость vs Компилируемость\n",
    "- В компилируемых языках код программы нужно скомпилировать в так называемый исполняемый код. Этот код затем будет исполнять нечто, что ничего не знает про исходный язык программирования.\n",
    "\n",
    "- В интерпретируемом же языке исполнителем является сама программа, которая анализирует исходный код в реальном времени строка за строкой. Python - интерпретируемый язык (и исполнителем кода на нём является программа под названием \"python\"). Из этого следуют несколько важных свойств:\n",
    "    - Большинство ошибок возникает на этапе выполнения программы\n",
    "    - Более гибкий код\n",
    "    \n",
    "### Сильная vs Динамическая типизация \n",
    "- Сильная: У каждого объекта есть один конкретный тип; не бывает так, что мы не знаем, какого типа объект, или что объект относится к некоторому \"неопределённому типу\", который будет разрешён впоследствии, или что у нас есть объекты некого \"универсального\" типа.\n",
    "- Динамическая: Мы _почти_ никак не можем из исходного кода программы понять, какого типа объект в данном выражении. По крайней мере, не можем понять в точности. Чтобы это выяснить, нужно проинтерпретировать всю программу с самого начала до данного выражения.\n",
    "\n",
    "### Управление памятью\n",
    "Не нужно следить за выделяемой памятью и чистить за собой: объекты удаляются тогда, когда на них нет ссылок. Тем не менее, забить память все еще можно."
   ]
  },
  {
   "cell_type": "markdown",
   "id": "e1e38f5e",
   "metadata": {},
   "source": [
    "## Дзен питона"
   ]
  },
  {
   "cell_type": "code",
   "execution_count": null,
   "id": "10874c64",
   "metadata": {},
   "outputs": [],
   "source": [
    "import this"
   ]
  },
  {
   "cell_type": "markdown",
   "id": "faae0612",
   "metadata": {},
   "source": [
    "Что в переводе примерно:\n",
    "\n",
    "- Красивое лучше уродливого.\n",
    "- Явное лучше неявного.\n",
    "- Простое лучше сложного.\n",
    "- Сложное лучше запутанного.\n",
    "- Развернутое лучше вложенного.\n",
    "- Разреженное лучше плотного.\n",
    "- Читаемость имеет значение.\n",
    "- Особые случаи не настолько особые, чтобы нарушать правила.\n",
    "- При этом практичность важнее безупречности.\n",
    "- Ошибки не должны замалчиваться.\n",
    "- Если не замалчиваются явно.\n",
    "- Встретив двусмысленность, отбрось искушение угадать.\n",
    "- Должен существовать один - и, желательно, только один – очевидный способ сделать что-то.\n",
    "- Хотя этот способ поначалу может быть и не очевиден, если вы не голландец.\n",
    "- Сейчас лучше, чем никогда.\n",
    "- Хотя никогда часто лучше, чем *прямо* сейчас.\n",
    "- Если реализацию сложно объяснить – идея точно плоха.\n",
    "- Если реализацию легко объяснить – возможно, идея хороша.\n",
    "- Пространства имен – отличная штука! Будем использовать их чаще!"
   ]
  },
  {
   "cell_type": "markdown",
   "id": "0d304737",
   "metadata": {},
   "source": [
    "## Как запустить что-то на Python\n",
    "\n",
    "- Устанавливаем python с официальной страницы https://www.python.org/\n",
    "\n",
    "    - Интерпретатор командной строки (вызвать `python3`)\n",
    "    - Запуск интерпретации файла (`python3 filename.py`)\n",
    "    - Продвинутый интерпретатор командной строки ([ipython](https://jupyter.org/install))\n",
    "    - Базовый редактор (idle)\n",
    "    - Продвинутые IDE (например, [pycharm](https://www.jetbrains.com/pycharm/))\n",
    "\n",
    "- Без установки питона на компьютер\n",
    "\n",
    "    - Онлайн-интерпретаторы (великое множество, например, https://www.online-python.com/)\n",
    "    - Продвинутые интерпретаторы командной строки ([Google Colab](https://colab.research.google.com/?hl=ru), [Yandex DataSphere](https://datasphere.yandex.ru/?yc-skip-auth=1))"
   ]
  },
  {
   "cell_type": "markdown",
   "id": "cc9f232d",
   "metadata": {},
   "source": [
    "## Основные типы данных"
   ]
  },
  {
   "cell_type": "code",
   "execution_count": null,
   "id": "cc93ea9e",
   "metadata": {},
   "outputs": [],
   "source": [
    "42, type(42)"
   ]
  },
  {
   "cell_type": "code",
   "execution_count": null,
   "id": "d2c5509c",
   "metadata": {},
   "outputs": [],
   "source": [
    "3.14, type(3.14)"
   ]
  },
  {
   "cell_type": "code",
   "execution_count": null,
   "id": "e580d8d6",
   "metadata": {},
   "outputs": [],
   "source": [
    "True, type(True)"
   ]
  },
  {
   "cell_type": "code",
   "execution_count": null,
   "id": "7cbf3e23",
   "metadata": {},
   "outputs": [],
   "source": [
    "\"abc\", type(\"abc\")"
   ]
  },
  {
   "cell_type": "code",
   "execution_count": null,
   "id": "6d7e6f23",
   "metadata": {},
   "outputs": [],
   "source": [
    "# Отсутствие данных\n",
    "None, type(None)"
   ]
  },
  {
   "cell_type": "markdown",
   "id": "48de7d8c",
   "metadata": {},
   "source": [
    "## Переменные"
   ]
  },
  {
   "cell_type": "code",
   "execution_count": null,
   "id": "0f397130",
   "metadata": {},
   "outputs": [],
   "source": [
    "a = 5\n",
    "a = 0.5  # динамическая типизация\n",
    "вау = 10  # но лучше так не делать"
   ]
  },
  {
   "cell_type": "code",
   "execution_count": null,
   "id": "247a5b88",
   "metadata": {},
   "outputs": [],
   "source": [
    "True = 5"
   ]
  },
  {
   "cell_type": "markdown",
   "id": "d05fb793",
   "metadata": {},
   "source": [
    "Есть специальные имена, которые технически можно использовать, как имя переменной, но на практике крайне не рекомендуется. Например, `list`, `set` и т.д."
   ]
  },
  {
   "cell_type": "markdown",
   "id": "05a97679",
   "metadata": {},
   "source": [
    "## Арифметические операции"
   ]
  },
  {
   "cell_type": "code",
   "execution_count": null,
   "id": "8f558fc0",
   "metadata": {},
   "outputs": [],
   "source": [
    "-3 * (1 + 6) / 4"
   ]
  },
  {
   "cell_type": "code",
   "execution_count": null,
   "id": "11c9b3bb",
   "metadata": {},
   "outputs": [],
   "source": [
    "45 // 6"
   ]
  },
  {
   "cell_type": "code",
   "execution_count": null,
   "id": "4950ff0d",
   "metadata": {},
   "outputs": [],
   "source": [
    "45 % 6"
   ]
  },
  {
   "cell_type": "code",
   "execution_count": null,
   "id": "dc838e04",
   "metadata": {},
   "outputs": [],
   "source": [
    "res = 123456789 ** 12345\n",
    "res = res % 10"
   ]
  },
  {
   "cell_type": "code",
   "execution_count": null,
   "id": "0df9b1a1",
   "metadata": {},
   "outputs": [],
   "source": [
    "res += 1   # res = 10\n",
    "res -= 2   # res = 8\n",
    "res *= 3   # res = 24\n",
    "res //= 4  # res = 6\n",
    "res **= 5  # res = 7776\n",
    "res %= 6   # res = 0\n",
    "res /= 7   # res = 0.0\n",
    "res"
   ]
  },
  {
   "cell_type": "code",
   "execution_count": null,
   "id": "38885387",
   "metadata": {
    "scrolled": true
   },
   "outputs": [],
   "source": [
    "# Больше математического в библиотеке math\n",
    "import math\n",
    "from math import sqrt\n",
    "\n",
    "sqrt(math.pi)  # btw: а можно ли считать корень без math.sqrt?"
   ]
  },
  {
   "cell_type": "code",
   "execution_count": null,
   "id": "ff0f2d9b",
   "metadata": {},
   "outputs": [],
   "source": [
    "a ** 0.5"
   ]
  },
  {
   "cell_type": "markdown",
   "id": "9821f45a",
   "metadata": {},
   "source": [
    "## Операции сравнения"
   ]
  },
  {
   "cell_type": "code",
   "execution_count": null,
   "id": "b9a8ce06",
   "metadata": {},
   "outputs": [],
   "source": [
    "3 > 1"
   ]
  },
  {
   "cell_type": "code",
   "execution_count": null,
   "id": "fb1e0b1c",
   "metadata": {},
   "outputs": [],
   "source": [
    "2 <= 5"
   ]
  },
  {
   "cell_type": "code",
   "execution_count": null,
   "id": "91d677c7",
   "metadata": {},
   "outputs": [],
   "source": [
    "1 == -1"
   ]
  },
  {
   "cell_type": "code",
   "execution_count": null,
   "id": "022417d5",
   "metadata": {},
   "outputs": [],
   "source": [
    "1 != -1"
   ]
  },
  {
   "cell_type": "code",
   "execution_count": null,
   "id": "3d2aa265",
   "metadata": {},
   "outputs": [],
   "source": [
    "# Строки сравниваются лексикографически: по номеру буквы в алфавите\n",
    "'a' > 'b'"
   ]
  },
  {
   "cell_type": "code",
   "execution_count": null,
   "id": "7c96e490",
   "metadata": {},
   "outputs": [],
   "source": [
    "# Буквы сравниваются по очереди\n",
    "'aa' > 'ab'"
   ]
  },
  {
   "cell_type": "markdown",
   "id": "6353a963",
   "metadata": {},
   "source": [
    "## Булевы операции"
   ]
  },
  {
   "cell_type": "code",
   "execution_count": null,
   "id": "68c7c6ae",
   "metadata": {},
   "outputs": [],
   "source": [
    "True, False"
   ]
  },
  {
   "cell_type": "code",
   "execution_count": null,
   "id": "f700c818",
   "metadata": {},
   "outputs": [],
   "source": [
    "not True, not False, True and False, True or False, (1 > 0)"
   ]
  },
  {
   "cell_type": "markdown",
   "id": "e54c3f2e",
   "metadata": {},
   "source": [
    "В python реализованы, так называемые, ленивые вычисления. Это значит, что если результат булевой операции можно определить только по первому значению, то второе вычисляться не будет (иногда это может быть удобно использовать)"
   ]
  },
  {
   "cell_type": "code",
   "execution_count": null,
   "id": "5fe56e9d",
   "metadata": {},
   "outputs": [],
   "source": [
    "True or 10, True and 10"
   ]
  },
  {
   "cell_type": "markdown",
   "id": "65c7ce68",
   "metadata": {},
   "source": [
    "Не ставить скобки -- плохо, понять, что хотел реализовать автор, становится гораздо тяжелее"
   ]
  },
  {
   "cell_type": "code",
   "execution_count": null,
   "id": "38139b99",
   "metadata": {},
   "outputs": [],
   "source": [
    "# Какой ответ?\n",
    "False == False != True"
   ]
  },
  {
   "cell_type": "markdown",
   "id": "8afdc754",
   "metadata": {},
   "source": [
    "#### Ответ"
   ]
  },
  {
   "cell_type": "code",
   "execution_count": null,
   "id": "1aed4f1d",
   "metadata": {},
   "outputs": [],
   "source": [
    "# Как это работает:\n",
    "(False == False) and (False != True)"
   ]
  },
  {
   "cell_type": "code",
   "execution_count": null,
   "id": "9a8c9b9d",
   "metadata": {},
   "outputs": [],
   "source": [
    "# Но благодаря этому можно делать так\n",
    "1 < 2 < 3"
   ]
  },
  {
   "cell_type": "markdown",
   "id": "565d543d",
   "metadata": {},
   "source": [
    "## Битовые операции"
   ]
  },
  {
   "cell_type": "code",
   "execution_count": null,
   "id": "4eee80bd",
   "metadata": {},
   "outputs": [],
   "source": [
    "# Битовые сдвиги\n",
    "25 << 1, 25 >> 1"
   ]
  },
  {
   "cell_type": "code",
   "execution_count": null,
   "id": "d014a78b",
   "metadata": {},
   "outputs": [],
   "source": [
    "# Битовое И\n",
    "12 & 7"
   ]
  },
  {
   "cell_type": "code",
   "execution_count": null,
   "id": "76c2fe0a",
   "metadata": {},
   "outputs": [],
   "source": [
    "# Битовое ИЛИ\n",
    "12 | 7"
   ]
  },
  {
   "cell_type": "code",
   "execution_count": null,
   "id": "8ba2e1fb",
   "metadata": {},
   "outputs": [],
   "source": [
    "# Битовое исключаещее ИЛИ\n",
    "12 ^ 7"
   ]
  },
  {
   "cell_type": "markdown",
   "id": "a391ba56",
   "metadata": {},
   "source": [
    "## Оператор `is`"
   ]
  },
  {
   "cell_type": "code",
   "execution_count": null,
   "id": "caef26fd",
   "metadata": {},
   "outputs": [],
   "source": [
    "a = 10000\n",
    "b = a\n",
    "a is b"
   ]
  },
  {
   "cell_type": "code",
   "execution_count": null,
   "id": "be59d9a8",
   "metadata": {},
   "outputs": [],
   "source": [
    "id(a), id(b)"
   ]
  },
  {
   "cell_type": "code",
   "execution_count": null,
   "id": "012e8692",
   "metadata": {},
   "outputs": [],
   "source": [
    "a = 10000\n",
    "b = 10000\n",
    "a is b"
   ]
  },
  {
   "cell_type": "code",
   "execution_count": null,
   "id": "3db1cd2d",
   "metadata": {},
   "outputs": [],
   "source": [
    "id(a), id(b)"
   ]
  },
  {
   "cell_type": "code",
   "execution_count": null,
   "id": "4dd809ae",
   "metadata": {},
   "outputs": [],
   "source": [
    "a = 123\n",
    "b = 123\n",
    "a is b"
   ]
  },
  {
   "cell_type": "code",
   "execution_count": null,
   "id": "4ec1ed94",
   "metadata": {},
   "outputs": [],
   "source": [
    "id(a), id(b)"
   ]
  },
  {
   "cell_type": "markdown",
   "id": "770bb3ce",
   "metadata": {},
   "source": [
    "## Контейнеры"
   ]
  },
  {
   "cell_type": "code",
   "execution_count": null,
   "id": "46797d19",
   "metadata": {},
   "outputs": [],
   "source": [
    "s = 'abcdef'                # str\n",
    "s = \"abcdef\"                # str\n",
    "s = \"\"\"abcdef\n",
    "wow new line\n",
    "\"\"\"                         # str\n",
    "l = [1, 2, 2.5, 'abc']      # list\n",
    "t1 = (42, 41, True)         # tuple\n",
    "t2 = 42, 41, True           # tuple\n",
    "t3 = ()                     # tuple\n",
    "S = {1, 2, 3}               # set\n",
    "D = {1: 2, 3: 4}            # dict\n",
    "D = dict([(1, 2), (3, 4)])  # dict"
   ]
  },
  {
   "cell_type": "code",
   "execution_count": null,
   "id": "cef8d123",
   "metadata": {},
   "outputs": [],
   "source": [
    "D[1]"
   ]
  },
  {
   "cell_type": "markdown",
   "id": "d3357eaf",
   "metadata": {},
   "source": [
    "#### Строка"
   ]
  },
  {
   "cell_type": "code",
   "execution_count": null,
   "id": "9967b9e5",
   "metadata": {},
   "outputs": [],
   "source": [
    "s[0], len(s)"
   ]
  },
  {
   "cell_type": "code",
   "execution_count": null,
   "id": "98743d64",
   "metadata": {},
   "outputs": [],
   "source": [
    "s[2] = 'a'"
   ]
  },
  {
   "cell_type": "markdown",
   "id": "f6d0429b",
   "metadata": {},
   "source": [
    "#### Список"
   ]
  },
  {
   "cell_type": "code",
   "execution_count": null,
   "id": "782b9038",
   "metadata": {},
   "outputs": [],
   "source": [
    "l[1] = 378272\n",
    "l[-1] = 'cba'\n",
    "l, len(l)"
   ]
  },
  {
   "cell_type": "code",
   "execution_count": null,
   "id": "cf9f3edf",
   "metadata": {},
   "outputs": [],
   "source": [
    "l[4]"
   ]
  },
  {
   "cell_type": "markdown",
   "id": "43d71841",
   "metadata": {},
   "source": [
    "#### Кортеж"
   ]
  },
  {
   "cell_type": "code",
   "execution_count": null,
   "id": "8e327c73",
   "metadata": {},
   "outputs": [],
   "source": [
    "# Tuple\n",
    "t = ('i', 'cannot', 'be', 'modified')\n",
    "t[1], len(t)"
   ]
  },
  {
   "cell_type": "code",
   "execution_count": null,
   "id": "9f5ea35e",
   "metadata": {},
   "outputs": [],
   "source": [
    "t[1] = 'can'"
   ]
  },
  {
   "cell_type": "markdown",
   "id": "6ffdf544",
   "metadata": {},
   "source": [
    "#### Множество"
   ]
  },
  {
   "cell_type": "code",
   "execution_count": null,
   "id": "ff0b2f6a",
   "metadata": {},
   "outputs": [],
   "source": [
    "a = {1, 2, 3}\n",
    "b = {3, 4, 5}\n",
    "a & b, a | b, a ^ b, a - b, 2 in a, 2 in b"
   ]
  },
  {
   "cell_type": "code",
   "execution_count": null,
   "id": "b7cf53e2",
   "metadata": {},
   "outputs": [],
   "source": [
    "{1, 1, 1, 1, 2, 3, 3}"
   ]
  },
  {
   "cell_type": "code",
   "execution_count": null,
   "id": "c4b5c18f",
   "metadata": {},
   "outputs": [],
   "source": [
    "a[0]"
   ]
  },
  {
   "cell_type": "markdown",
   "id": "7ea6a3f2",
   "metadata": {},
   "source": [
    "#### Словарь"
   ]
  },
  {
   "cell_type": "code",
   "execution_count": null,
   "id": "2761e7de",
   "metadata": {},
   "outputs": [],
   "source": [
    "D.keys(), D.values(), D.items(), 1 in D, 2 in D, D[3]"
   ]
  },
  {
   "cell_type": "code",
   "execution_count": null,
   "id": "b21b5367",
   "metadata": {},
   "outputs": [],
   "source": [
    "# Что можно использовать в множестве и как ключи в словаре?\n",
    "{\n",
    "    1: 2,\n",
    "    'a': {1, 2},\n",
    "    (1, 2, 3): 'abc',\n",
    "    [0]: True\n",
    "}"
   ]
  },
  {
   "cell_type": "markdown",
   "id": "7ae3fb3d",
   "metadata": {},
   "source": [
    "#### Ответ"
   ]
  },
  {
   "cell_type": "code",
   "execution_count": null,
   "id": "25a95944",
   "metadata": {},
   "outputs": [],
   "source": [
    "# Хэшируемые типы данных, т.е. те, к которым можно применить функцию `hash`\n",
    "hash(1), hash('a'), hash(()), hash(None), hash([])"
   ]
  },
  {
   "cell_type": "markdown",
   "id": "4db798ff",
   "metadata": {},
   "source": [
    "#### Будьте аккуратнее, используя булевы типы в качестве ключей словаря"
   ]
  },
  {
   "cell_type": "code",
   "execution_count": null,
   "id": "f4f3b135",
   "metadata": {},
   "outputs": [],
   "source": [
    "# Поскольку\n",
    "True == 1, hash(True) == hash(1)"
   ]
  },
  {
   "cell_type": "code",
   "execution_count": null,
   "id": "5028a007",
   "metadata": {},
   "outputs": [],
   "source": [
    "# То при создании такого словаря получаем что-то плохое\n",
    "{True: 2, 1: 4}"
   ]
  },
  {
   "cell_type": "code",
   "execution_count": null,
   "id": "cf0b0bbc",
   "metadata": {},
   "outputs": [],
   "source": [
    "# C False и 0 - то же самое\n",
    "{False: 1, 0: 5}"
   ]
  },
  {
   "cell_type": "markdown",
   "id": "98b6eb27",
   "metadata": {},
   "source": [
    "#### Collections"
   ]
  },
  {
   "cell_type": "markdown",
   "id": "0fbf4381",
   "metadata": {},
   "source": [
    "Есть много интересных контейнеров, которые могут вам пригодиться. Наиболее часто используемый:"
   ]
  },
  {
   "cell_type": "code",
   "execution_count": null,
   "id": "a640d87a",
   "metadata": {},
   "outputs": [],
   "source": [
    "from collections import Counter\n",
    "\n",
    "ctr = Counter([1, 1, 1, 3, 4, 2, 2, 3, 5, 6])\n",
    "ctr.subtract([3, 5])\n",
    "ctr.update([1, 2])\n",
    "ctr, ctr[1], ctr.most_common(3)"
   ]
  },
  {
   "cell_type": "markdown",
   "id": "f4cc11ef",
   "metadata": {},
   "source": [
    "## Арифметика с нечисловыми типами данных"
   ]
  },
  {
   "cell_type": "code",
   "execution_count": null,
   "id": "a65d2e14",
   "metadata": {},
   "outputs": [],
   "source": [
    "'Hello ' + 'world'"
   ]
  },
  {
   "cell_type": "code",
   "execution_count": null,
   "id": "3f37a55c",
   "metadata": {},
   "outputs": [],
   "source": [
    "'abc' * 4"
   ]
  },
  {
   "cell_type": "code",
   "execution_count": null,
   "id": "bd74a414",
   "metadata": {},
   "outputs": [],
   "source": [
    "[1] + [2, 3]"
   ]
  },
  {
   "cell_type": "code",
   "execution_count": null,
   "id": "fe6d1fe5",
   "metadata": {},
   "outputs": [],
   "source": [
    "[2, 3, 4] * 3"
   ]
  },
  {
   "cell_type": "markdown",
   "id": "c95c9ace",
   "metadata": {},
   "source": [
    "## Приведение типов"
   ]
  },
  {
   "cell_type": "code",
   "execution_count": null,
   "id": "fd11e8a7",
   "metadata": {},
   "outputs": [],
   "source": [
    "int('123')"
   ]
  },
  {
   "cell_type": "code",
   "execution_count": null,
   "id": "60e872db",
   "metadata": {},
   "outputs": [],
   "source": [
    "str(345)"
   ]
  },
  {
   "cell_type": "code",
   "execution_count": null,
   "id": "8951b751",
   "metadata": {},
   "outputs": [],
   "source": [
    "float(5)"
   ]
  },
  {
   "cell_type": "code",
   "execution_count": null,
   "id": "9f0e68eb",
   "metadata": {},
   "outputs": [],
   "source": [
    "int(234.5)"
   ]
  },
  {
   "cell_type": "code",
   "execution_count": null,
   "id": "c6a9f0e9",
   "metadata": {},
   "outputs": [],
   "source": [
    "l = [1, 2, 1, 5, 5, 6]\n",
    "set(l)"
   ]
  },
  {
   "cell_type": "code",
   "execution_count": null,
   "id": "896fa987",
   "metadata": {},
   "outputs": [],
   "source": [
    "t = (1, 5)\n",
    "list(t)"
   ]
  },
  {
   "cell_type": "code",
   "execution_count": null,
   "id": "3600dfe5",
   "metadata": {},
   "outputs": [],
   "source": [
    "s = \"abab\"\n",
    "tuple(s)"
   ]
  },
  {
   "cell_type": "code",
   "execution_count": null,
   "id": "2993eeca",
   "metadata": {},
   "outputs": [],
   "source": [
    "# Перевести число в бинарное представление\n",
    "bin(3), bin(4)"
   ]
  },
  {
   "cell_type": "code",
   "execution_count": null,
   "id": "2aa0c459",
   "metadata": {},
   "outputs": [],
   "source": [
    "# Перевести строку бинарного представления в десятичное число\n",
    "int(bin(3), 2)"
   ]
  },
  {
   "cell_type": "code",
   "execution_count": null,
   "id": "345935d6",
   "metadata": {},
   "outputs": [],
   "source": [
    "# Неявная конвертация типов\n",
    "True + 1 + 1.0"
   ]
  },
  {
   "cell_type": "markdown",
   "id": "12def7a2",
   "metadata": {},
   "source": [
    "## Приведение к `bool`"
   ]
  },
  {
   "cell_type": "code",
   "execution_count": null,
   "id": "50649e8e",
   "metadata": {},
   "outputs": [],
   "source": [
    "bool(1), bool(0), bool(-2)"
   ]
  },
  {
   "cell_type": "code",
   "execution_count": null,
   "id": "29b30d4f",
   "metadata": {},
   "outputs": [],
   "source": [
    "bool(-12.3), bool(0.0), bool(24.1)"
   ]
  },
  {
   "cell_type": "code",
   "execution_count": null,
   "id": "64b26b33",
   "metadata": {},
   "outputs": [],
   "source": [
    "bool(''), bool('abc')"
   ]
  },
  {
   "cell_type": "code",
   "execution_count": null,
   "id": "13802924",
   "metadata": {},
   "outputs": [],
   "source": [
    "bool(['x', 'y',]), bool([])"
   ]
  },
  {
   "cell_type": "markdown",
   "id": "6aeb5c8b",
   "metadata": {},
   "source": [
    "Обратно к булевым операциям, они применимы и к объектам! (но не стоит так делать)\n",
    "\n",
    "\n",
    "bool(A) | bool(B) | A or B | A and B \n",
    "------- | ------- | ------ | --- \n",
    "False   | -       | B      | A\n",
    "True    | -       | A      | B"
   ]
  },
  {
   "cell_type": "code",
   "execution_count": null,
   "id": "c5397005",
   "metadata": {},
   "outputs": [],
   "source": [
    "[] and [1]"
   ]
  },
  {
   "cell_type": "code",
   "execution_count": null,
   "id": "ad89a95d",
   "metadata": {},
   "outputs": [],
   "source": [
    "'' or 'spam'"
   ]
  },
  {
   "cell_type": "markdown",
   "id": "76847381",
   "metadata": {},
   "source": [
    "## Ввод информации"
   ]
  },
  {
   "cell_type": "code",
   "execution_count": null,
   "id": "e9592366",
   "metadata": {},
   "outputs": [],
   "source": [
    "a = input()\n",
    "a, type(a)"
   ]
  },
  {
   "cell_type": "code",
   "execution_count": null,
   "id": "f95a80b6",
   "metadata": {},
   "outputs": [],
   "source": [
    "# Если нам нужно число, то нужно не забыть привести строку к числу\n",
    "a = int(a)\n",
    "\n",
    "# Или сделать это сразу при вводе\n",
    "a = int(input())\n",
    "\n",
    "# Но! Если недобропорядочный пользователь введёт не число, то пройизойдёт ошибка"
   ]
  },
  {
   "cell_type": "code",
   "execution_count": null,
   "id": "5014a2b2",
   "metadata": {},
   "outputs": [],
   "source": [
    "# работа с файлами\n",
    "\n",
    "file = open('files/input.txt', 'r')  # открываем файл на чтение\n",
    "\n",
    "line1 = file.readline()  # читаем строку файла\n",
    "line2 = file.readline()  # читаем строку файла\n",
    "\n",
    "file.close() # Закрываем файл\n",
    "\n",
    "line1, line2"
   ]
  },
  {
   "cell_type": "code",
   "execution_count": null,
   "id": "7b68dbaf",
   "metadata": {},
   "outputs": [],
   "source": [
    "file = open('files/input.txt', 'r')\n",
    "lines = file.readlines()  # читаем файл в список строк\n",
    "file.close()\n",
    "\n",
    "lines"
   ]
  },
  {
   "cell_type": "code",
   "execution_count": null,
   "id": "6de138d1",
   "metadata": {},
   "outputs": [],
   "source": [
    "file = open('files/input.txt', 'r')\n",
    "big_str = file.read()  # весь файл в одну строку\n",
    "file.close()\n",
    "\n",
    "big_str"
   ]
  },
  {
   "cell_type": "markdown",
   "id": "2f96e8d6",
   "metadata": {},
   "source": [
    "\\- Что тут плохо?\n",
    "\n",
    "\\- На работу с открытием/закрыием уходит две рутинные строки, так что можно забыть закрыть файл (да и влом лишнюю строку писать)"
   ]
  },
  {
   "cell_type": "code",
   "execution_count": null,
   "id": "d0a61b38",
   "metadata": {},
   "outputs": [],
   "source": [
    "with open('files/input.txt', 'r') as file:\n",
    "    line1 = file.readline()\n",
    "line1"
   ]
  },
  {
   "cell_type": "markdown",
   "id": "06425917",
   "metadata": {},
   "source": [
    "## Вывод информации"
   ]
  },
  {
   "cell_type": "code",
   "execution_count": null,
   "id": "b1e6ff51",
   "metadata": {},
   "outputs": [],
   "source": [
    "poem = \"\"\"\n",
    "Напиши стих, пусть он будет не очень,\n",
    "Но в нем будет рифма, и смысл, и строка...\n",
    "И в начале его будет строчка: \"Здравствуй\",\n",
    "А в конце - \"До свидания\".\n",
    "\n",
    "Это будет просто, как жизнь, как ветер,\n",
    "Как вода в пустыне, как крик в ночи...\n",
    "Напиши стих! И пусть это будет ветер\n",
    "Или просто дождь, или просто крик.\n",
    "\"\"\""
   ]
  },
  {
   "cell_type": "code",
   "execution_count": null,
   "id": "1e2e9044",
   "metadata": {},
   "outputs": [],
   "source": [
    "print(poem)"
   ]
  },
  {
   "cell_type": "code",
   "execution_count": null,
   "id": "46d30966",
   "metadata": {},
   "outputs": [],
   "source": [
    "print('Этот стих написала Балабоба:', poem)"
   ]
  },
  {
   "cell_type": "code",
   "execution_count": null,
   "id": "65528135",
   "metadata": {},
   "outputs": [],
   "source": [
    "print('Этот стих написала Балабоба:', poem, sep='\\n\\n', end='\\n\\nКрасиво, не правда ли?')"
   ]
  },
  {
   "cell_type": "code",
   "execution_count": null,
   "id": "8228533d",
   "metadata": {},
   "outputs": [],
   "source": [
    "print(2, '+', 2, '=', 4)\n",
    "print(2, '+', 2, '=', 4, end=' | Правильно же?\\n')\n",
    "print(2, '+', 2, '=', 4, sep='    ', end=' | Правильно же?')"
   ]
  },
  {
   "cell_type": "code",
   "execution_count": null,
   "id": "34fd0697",
   "metadata": {},
   "outputs": [],
   "source": [
    "# А что выведется тут?\n",
    "print()"
   ]
  },
  {
   "cell_type": "code",
   "execution_count": null,
   "id": "209b2166",
   "metadata": {},
   "outputs": [],
   "source": [
    "# запись в новый файл\n",
    "with open('files/output.txt', 'w') as file:\n",
    "    file.write(poem)"
   ]
  },
  {
   "cell_type": "code",
   "execution_count": null,
   "id": "227028b4",
   "metadata": {},
   "outputs": [],
   "source": [
    "# дописать в конец файла\n",
    "with open('files/output.txt', 'a') as file:\n",
    "    file.write('Как же всё-таки красиво!')"
   ]
  },
  {
   "cell_type": "markdown",
   "id": "6523639a",
   "metadata": {},
   "source": [
    "## Управляющие конструкции `if-elif-else`"
   ]
  },
  {
   "cell_type": "code",
   "execution_count": null,
   "id": "5e70cf95",
   "metadata": {},
   "outputs": [],
   "source": [
    "x = 31\n",
    "\n",
    "if x % 10 == 0:  # двоеточие означает, что далее будет выделенный блок кода\n",
    "    \n",
    "    # отступ выделяет блок кода. В данном случае -\n",
    "    # одну или несколько комманд, выполняющихся,\n",
    "    # когда условие верно.\n",
    "    \n",
    "    # Выделение блока выполняется только отступами, т.е.,\n",
    "    # например, фигурные скобки как в C++ – не требуются\n",
    "\n",
    "    print(x, \"Делится на 10\")\n",
    "elif x % 5 == 0:\n",
    "    print(x, \"Делится на 5\")\n",
    "else:\n",
    "    print(x, \"Не делится на 5\")"
   ]
  },
  {
   "cell_type": "markdown",
   "id": "5c2c60c6",
   "metadata": {},
   "source": [
    "Порадок строго такой (`if-elif-else`). `elif`'ов может быть сколько угодно (включая 0), `else` необязателен."
   ]
  },
  {
   "cell_type": "markdown",
   "id": "7726e26d",
   "metadata": {},
   "source": [
    "#### Тернарный оператор"
   ]
  },
  {
   "cell_type": "code",
   "execution_count": null,
   "id": "7b831ddd",
   "metadata": {},
   "outputs": [],
   "source": [
    "if x % 10 == 0:\n",
    "    answer = \"Делится на 10\"\n",
    "else:\n",
    "    answer = \"Не делится на 10\"\n",
    "answer"
   ]
  },
  {
   "cell_type": "code",
   "execution_count": null,
   "id": "42975284",
   "metadata": {},
   "outputs": [],
   "source": [
    "answer = \"Делится на 10\" if x % 10 == 0 else \"Не делится на 10\"\n",
    "answer"
   ]
  },
  {
   "cell_type": "markdown",
   "id": "0768ea06",
   "metadata": {
    "slideshow": {
     "slide_type": "slide"
    }
   },
   "source": [
    "## Цикл for"
   ]
  },
  {
   "cell_type": "code",
   "execution_count": null,
   "id": "e86f2806",
   "metadata": {},
   "outputs": [],
   "source": [
    "# Напечатать числа от 1 до 10\n",
    "print(1)\n",
    "print(2)\n",
    "print(3)\n",
    "print(4)\n",
    "print(5)\n",
    "print(6)\n",
    "print(7)\n",
    "print(8)\n",
    "print(9)\n",
    "print(10)"
   ]
  },
  {
   "cell_type": "code",
   "execution_count": null,
   "id": "34ba49df",
   "metadata": {
    "slideshow": {
     "slide_type": "slide"
    }
   },
   "outputs": [],
   "source": [
    "for n in [1, 2, 3, 4, 5, 6, 7, 8, 9, 10]:\n",
    "    print(n)"
   ]
  },
  {
   "cell_type": "code",
   "execution_count": null,
   "id": "627ca93e",
   "metadata": {
    "slideshow": {
     "slide_type": "slide"
    }
   },
   "outputs": [],
   "source": [
    "for letter in \"ABCDE\":\n",
    "    print(\"Letter\", letter)"
   ]
  },
  {
   "cell_type": "code",
   "execution_count": null,
   "id": "90fc8723",
   "metadata": {},
   "outputs": [],
   "source": [
    "for obj in (10.1, True, None):\n",
    "    print(obj)"
   ]
  },
  {
   "cell_type": "code",
   "execution_count": null,
   "id": "f409bdc5",
   "metadata": {
    "slideshow": {
     "slide_type": "slide"
    }
   },
   "outputs": [],
   "source": [
    "# Напечатать числа от 1 до 1000000\n",
    "\n",
    "for n in [1, 2, 3, ]:  # очень долго писать...\n",
    "    print(n)"
   ]
  },
  {
   "cell_type": "markdown",
   "id": "87fc6fbc",
   "metadata": {
    "slideshow": {
     "slide_type": "slide"
    }
   },
   "source": [
    "### Базовый тип range"
   ]
  },
  {
   "cell_type": "code",
   "execution_count": null,
   "id": "d55531c4",
   "metadata": {},
   "outputs": [],
   "source": [
    "numbers = range(10)"
   ]
  },
  {
   "cell_type": "code",
   "execution_count": null,
   "id": "197bb6d6",
   "metadata": {},
   "outputs": [],
   "source": [
    "numbers[0], numbers[-1]"
   ]
  },
  {
   "cell_type": "code",
   "execution_count": null,
   "id": "e790b365",
   "metadata": {
    "slideshow": {
     "slide_type": "slide"
    }
   },
   "outputs": [],
   "source": [
    "list(range(10))"
   ]
  },
  {
   "cell_type": "code",
   "execution_count": null,
   "id": "7b2c2c8b",
   "metadata": {},
   "outputs": [],
   "source": [
    "list(range(4, 14))  # полуинтервал – включается первый аргумент, но исключается последний"
   ]
  },
  {
   "cell_type": "code",
   "execution_count": null,
   "id": "1614641d",
   "metadata": {},
   "outputs": [],
   "source": [
    "list(range(4, 14, 3))"
   ]
  },
  {
   "cell_type": "code",
   "execution_count": null,
   "id": "f22a6ce2",
   "metadata": {},
   "outputs": [],
   "source": [
    "list(range(14, 4, -2))"
   ]
  },
  {
   "cell_type": "markdown",
   "id": "0e7f730b",
   "metadata": {
    "slideshow": {
     "slide_type": "slide"
    }
   },
   "source": [
    "### Циклы: for"
   ]
  },
  {
   "cell_type": "code",
   "execution_count": null,
   "id": "ea394d46",
   "metadata": {
    "slideshow": {
     "slide_type": "-"
    }
   },
   "outputs": [],
   "source": [
    "# Напечатать числа от 1 до 1000000\n",
    "\n",
    "for n in range(1000000):\n",
    "    # print(n)  # закомментировано, чтобы случайно не напечатать и не подвесить jupyter ;]\n",
    "    pass"
   ]
  }
 ],
 "metadata": {
  "kernelspec": {
   "display_name": "Python 3 (ipykernel)",
   "language": "python",
   "name": "python3"
  },
  "language_info": {
   "codemirror_mode": {
    "name": "ipython",
    "version": 3
   },
   "file_extension": ".py",
   "mimetype": "text/x-python",
   "name": "python",
   "nbconvert_exporter": "python",
   "pygments_lexer": "ipython3",
   "version": "3.10.10"
  }
 },
 "nbformat": 4,
 "nbformat_minor": 5
}
