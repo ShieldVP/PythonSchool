{
 "cells": [
  {
   "cell_type": "markdown",
   "id": "29c863f0",
   "metadata": {},
   "source": [
    "# Задачки"
   ]
  },
  {
   "cell_type": "markdown",
   "id": "a4cd1e0c",
   "metadata": {},
   "source": [
    "1. Вам вводят три числа в разных строках, которые задают соотвественно коэффициенты $a, b, c$ в уравнении $a x^2 + b x + c = 0$. Найдите корни этого уравнения и выведите ответ.\n",
    "2. Откройте книгу `files/input.txt` и узнайте какая там самая частая буква.\n",
    "3. Посчитать сумму четных чисел от 0 до number."
   ]
  },
  {
   "cell_type": "markdown",
   "id": "c6a79b99",
   "metadata": {},
   "source": [
    "## Задача 1"
   ]
  },
  {
   "cell_type": "markdown",
   "id": "9e57399e",
   "metadata": {},
   "source": [
    "<img src=\"images/quadratic.jpeg\" width=\"500\">"
   ]
  },
  {
   "cell_type": "code",
   "execution_count": null,
   "id": "c504661e",
   "metadata": {},
   "outputs": [],
   "source": [
    "import math\n",
    "\n",
    "# Считайте значения a, b, c\n",
    "a = ...\n",
    "b = ...\n",
    "c = ...\n",
    "\n",
    "# Вычислите дискриминант\n",
    "...\n",
    "\n",
    "# В зависмости от значения дискриминанта выведите ответ\n",
    "..."
   ]
  },
  {
   "cell_type": "markdown",
   "id": "fa7ec9f9",
   "metadata": {},
   "source": [
    "## Задача 2"
   ]
  },
  {
   "cell_type": "code",
   "execution_count": null,
   "id": "065d1fb2",
   "metadata": {},
   "outputs": [],
   "source": [
    "# Откройте файл files/input.txt и считайте его содержимое\n",
    "...\n",
    "\n",
    "# Воспользуейтесь библиотекой collections\n",
    "..."
   ]
  },
  {
   "cell_type": "markdown",
   "id": "8e2b6fe7",
   "metadata": {},
   "source": [
    "## Задача 3"
   ]
  },
  {
   "cell_type": "code",
   "execution_count": null,
   "id": "56298a62",
   "metadata": {},
   "outputs": [],
   "source": [
    "number = ...\n",
    "\n",
    "summa = 0\n",
    "# Цикл и проверка чётности"
   ]
  }
 ],
 "metadata": {
  "kernelspec": {
   "display_name": "Python 3 (ipykernel)",
   "language": "python",
   "name": "python3"
  },
  "language_info": {
   "codemirror_mode": {
    "name": "ipython",
    "version": 3
   },
   "file_extension": ".py",
   "mimetype": "text/x-python",
   "name": "python",
   "nbconvert_exporter": "python",
   "pygments_lexer": "ipython3",
   "version": "3.10.10"
  }
 },
 "nbformat": 4,
 "nbformat_minor": 5
}
