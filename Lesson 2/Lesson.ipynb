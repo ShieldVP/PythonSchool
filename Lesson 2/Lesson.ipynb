{
 "cells": [
  {
   "cell_type": "markdown",
   "metadata": {
    "id": "kmqBPeO1NhMj"
   },
   "source": [
    "# Python 3. Занятие 2"
   ]
  },
  {
   "cell_type": "markdown",
   "metadata": {
    "id": "_EQ5RDf209ME"
   },
   "source": [
    "# Циклы"
   ]
  },
  {
   "cell_type": "markdown",
   "metadata": {
    "id": "_vAaelfF1Hr-"
   },
   "source": [
    "Циклы используются в случаях, когда хотим выполнять набор команд несколько раз, чаще всего когда количество раз заранее неизвестно."
   ]
  },
  {
   "cell_type": "markdown",
   "metadata": {
    "id": "BPC2WwOvNhMt"
   },
   "source": [
    "## Цикл while"
   ]
  },
  {
   "cell_type": "markdown",
   "metadata": {
    "id": "kcbL0D-O1VyF"
   },
   "source": [
    "Синтаксис:\n",
    "\n",
    "```python\n",
    "while condition:\n",
    "    do_something()\n",
    "```"
   ]
  },
  {
   "cell_type": "code",
   "execution_count": null,
   "metadata": {
    "colab": {
     "base_uri": "https://localhost:8080/"
    },
    "id": "ZSJY7xiDNhMt",
    "outputId": "cb6c555c-d40c-4673-f341-b927dd58abf0"
   },
   "outputs": [],
   "source": [
    "greetings = 1\n",
    "\n",
    "while greetings <= 3:\n",
    "    print(greetings, 'Hello! ' * greetings)\n",
    "    greetings += 1"
   ]
  },
  {
   "cell_type": "markdown",
   "metadata": {
    "id": "N0QrJS1tNhMt"
   },
   "source": [
    "Для форсированного выхода из цикла используется оператор `break`:"
   ]
  },
  {
   "cell_type": "code",
   "execution_count": null,
   "metadata": {
    "id": "9g-f-rXINhMu",
    "outputId": "b02fd716-67af-42ba-e2f4-b7a3b0c8f33c"
   },
   "outputs": [],
   "source": [
    "i = 0\n",
    "k = 5\n",
    "\n",
    "summ = 0  # Сумма первых 100 чисел\n",
    "\n",
    "while True: \n",
    "    i += 1\n",
    "    summ += i\n",
    "    if not i < 100: \n",
    "        break\n",
    "\n",
    "print(summ)"
   ]
  },
  {
   "cell_type": "markdown",
   "metadata": {
    "id": "xRB4lM66NhMu"
   },
   "source": [
    "Для форсированного перехода к следующей итерации цикла используется оператор `continue`:"
   ]
  },
  {
   "cell_type": "code",
   "execution_count": null,
   "metadata": {
    "colab": {
     "base_uri": "https://localhost:8080/"
    },
    "id": "7BgWFFNZNhMu",
    "outputId": "60c3986e-9e72-423a-b0f3-2f5a7059f6cf"
   },
   "outputs": [],
   "source": [
    "i = 0\n",
    "k = 5\n",
    "\n",
    "summ = 0  # Сумма первых 100 чисел не кратных k  \n",
    "\n",
    "while i < 100:\n",
    "    i += 1\n",
    "    if i % k != 0:\n",
    "        continue\n",
    "    summ += i\n",
    "\n",
    "print(summ)"
   ]
  },
  {
   "cell_type": "markdown",
   "metadata": {
    "id": "fbmQE7ASNhMu"
   },
   "source": [
    "В Python имеется конструкция `while-else`, которая проверяет был ли выход из цикла с помощью `break`:"
   ]
  },
  {
   "cell_type": "code",
   "execution_count": null,
   "metadata": {
    "colab": {
     "base_uri": "https://localhost:8080/"
    },
    "id": "GtZ9TxExNhMv",
    "outputId": "ca506761-ec7b-43fe-c4b6-90fb8a432d50"
   },
   "outputs": [],
   "source": [
    "numbers = [1, 3, 7, 8, 10]\n",
    "i = 0\n",
    "\n",
    "while i < len(numbers):\n",
    "    if numbers[i] == 5:\n",
    "        print('Нашли пятёрку')\n",
    "        break\n",
    "    i += 1\n",
    "        \n",
    "else:  # Если break не сработал \n",
    "    print('Не нашли пятёрку')"
   ]
  },
  {
   "cell_type": "markdown",
   "metadata": {
    "id": "zRVZNG00NhMv"
   },
   "source": [
    "## Цикл for"
   ]
  },
  {
   "cell_type": "markdown",
   "metadata": {
    "id": "9kR1S2QU2e7f"
   },
   "source": [
    "В Python `for`-цикл устроен так:\n",
    "\n",
    "```python\n",
    "numbers = [1, 2, 3, 5, 7]\n",
    "for n in numbers:\n",
    "    print(n)\n",
    "```\n",
    "\n",
    "Основная часть такого цикла -- **итерируемый объект** (iterable) - объект, по которому можно итерироваться.\n",
    "\n",
    "С практической точки зрения, итерируемый объект - объект, который позволяет получить следующий объект с помощью метода **\\_\\_next\\_\\_** / функции **next()**."
   ]
  },
  {
   "cell_type": "markdown",
   "metadata": {
    "id": "7QEH6IvLNhMv"
   },
   "source": [
    "`for`-циклы по спискам, кортежам, строкам:"
   ]
  },
  {
   "cell_type": "code",
   "execution_count": null,
   "metadata": {
    "colab": {
     "base_uri": "https://localhost:8080/"
    },
    "id": "VIpIA-RJNhMv",
    "outputId": "bcfe6135-70f7-4f15-e7a8-ff33bb713208"
   },
   "outputs": [],
   "source": [
    "list_obj = ['list', 1, 2, 3, 4, 5]\n",
    "for item in list_obj:\n",
    "    print(item, end=' ')\n",
    "print()\n",
    "    \n",
    "tuple_obj = ('tuple', 1, 2, 3, 4, 5)\n",
    "for item in tuple_obj:\n",
    "    print(item, end=' ')\n",
    "print()\n",
    "    \n",
    "string_obj = \"string12345\"\n",
    "for item in string_obj:\n",
    "    print(item, end=' ')\n",
    "print()"
   ]
  },
  {
   "cell_type": "markdown",
   "metadata": {
    "id": "RT3vOlacNhMw"
   },
   "source": [
    "`for`-циклы по множествам, словарям:"
   ]
  },
  {
   "cell_type": "code",
   "execution_count": null,
   "metadata": {
    "colab": {
     "base_uri": "https://localhost:8080/"
    },
    "id": "3JzJv5jwNhMw",
    "outputId": "06df9622-0eec-4a09-bda0-33eeafebf4bd"
   },
   "outputs": [],
   "source": [
    "set_obj = {'set', 1, 2, 3, 4, 5}\n",
    "for item in set_obj:\n",
    "    print(item, end=' ')\n",
    "print()\n",
    "    \n",
    "dict_obj = {'dict': \"value0\", 1: \"value1\", 2: \"value2\", 3: \"value3\", 4: \"value4\", 5: \"value5\"}\n",
    "for item in dict_obj:\n",
    "    print(item, end=' ')\n",
    "print()"
   ]
  },
  {
   "cell_type": "markdown",
   "metadata": {
    "id": "nHPsqTORNhMw"
   },
   "source": [
    "**Что делать, если просто хотим пройти по числам в диапазоне?**\n",
    "\n",
    "`range([start,] stop[, step])` возвращает неизменяемую последовательность чисел. \n",
    "\n",
    "По умолчанию `start=0`, `step=1`, и получаем `[0, stop)`. Помимо итерирования по `range`, можно проверять входит ли число в него:"
   ]
  },
  {
   "cell_type": "code",
   "execution_count": null,
   "metadata": {
    "colab": {
     "base_uri": "https://localhost:8080/"
    },
    "id": "g8kitoTYNhMw",
    "outputId": "3b904e27-71da-4dff-eb9b-948e8c3838f5"
   },
   "outputs": [],
   "source": [
    "r = range(1, 10, 2)\n",
    "list(r)\n",
    "\n",
    "5 in r"
   ]
  },
  {
   "cell_type": "code",
   "execution_count": null,
   "metadata": {
    "colab": {
     "base_uri": "https://localhost:8080/",
     "height": 167
    },
    "id": "53c9IJJpjhxj",
    "outputId": "8f38e461-1d02-420a-8483-30bbe4a071d0"
   },
   "outputs": [],
   "source": [
    "range(1, 10, 0)"
   ]
  },
  {
   "cell_type": "markdown",
   "metadata": {
    "id": "-WmdCBTMNhMw"
   },
   "source": [
    "В результате пользоваться `for`-циклом можно пользоваться такими вариантами:"
   ]
  },
  {
   "cell_type": "code",
   "execution_count": null,
   "metadata": {
    "colab": {
     "base_uri": "https://localhost:8080/"
    },
    "id": "3DrFtBwaNhMw",
    "outputId": "1c36aeb8-6d61-4e84-86f1-b07dcdb540dc"
   },
   "outputs": [],
   "source": [
    "name_list = ['Alice', 'Bob', 'Charley']\n",
    "for name in name_list:  # Перебираем элементы списка\n",
    "    print('Hello, ' + name)\n",
    "print()\n",
    "    \n",
    "for i in range(len(name_list)):  # Перебираем индексы от 0 до L-1\n",
    "    print('Hello, ' + name_list[i])\n",
    "print()    \n",
    "    \n",
    "for i, name in enumerate(name_list):  # Перебираем пары индекс-элемент\n",
    "    print('Hello, ' + name_list[i] + \", \" + name)"
   ]
  },
  {
   "cell_type": "markdown",
   "metadata": {
    "id": "M_XBTufnNhMx"
   },
   "source": [
    "Функция `enumerate` позволяет получить из итерируемого объекта генератор, возвращающий пары \"порядковый номер-элемент\""
   ]
  },
  {
   "cell_type": "markdown",
   "metadata": {
    "id": "mMi-2V0BNhMx"
   },
   "source": [
    "Рассмотрим несколько примеров:\n",
    "\n",
    "1. Поздороваемся только с двумя людьми"
   ]
  },
  {
   "cell_type": "code",
   "execution_count": null,
   "metadata": {
    "colab": {
     "base_uri": "https://localhost:8080/"
    },
    "id": "qYP2FXcxNhMx",
    "outputId": "3e46be93-b619-4b2b-c942-8842ab554799"
   },
   "outputs": [],
   "source": [
    "name_list = ['Alice', 'Bob', 'Charley']\n",
    "\n",
    "for i in range(len(name_list)):\n",
    "    print('Hello, ' + name_list[i])\n",
    "    if i > 0: \n",
    "        break"
   ]
  },
  {
   "cell_type": "markdown",
   "metadata": {
    "id": "y5RQdAmJNhMx"
   },
   "source": [
    "2. Не будем здороваться с Бобом"
   ]
  },
  {
   "cell_type": "code",
   "execution_count": null,
   "metadata": {
    "colab": {
     "base_uri": "https://localhost:8080/"
    },
    "id": "N5lZIp1ANhMx",
    "outputId": "57738fcc-3a6b-41a4-d47e-56642eef61f2"
   },
   "outputs": [],
   "source": [
    "name_list = ['Alice', 'Bob', 'Charley']\n",
    "\n",
    "for name in name_list:\n",
    "    if name == 'Bob':\n",
    "        continue\n",
    "    \n",
    "    print('Hello, ' + name)"
   ]
  },
  {
   "cell_type": "markdown",
   "metadata": {
    "id": "EDXi8cglNhMx"
   },
   "source": [
    "Аналогично конструкции `while-else`, существует и конструкция `for-else`:"
   ]
  },
  {
   "cell_type": "code",
   "execution_count": null,
   "metadata": {
    "id": "-IZg_PO5NhMx",
    "outputId": "b5928e5e-0461-423c-9405-78bcd681c5ed"
   },
   "outputs": [],
   "source": [
    "numbers = [1, 3, 7, 8, 10]\n",
    "\n",
    "for n in numbers:\n",
    "    if n == 5:\n",
    "        print('Нашли пятёрку')\n",
    "        break\n",
    "        \n",
    "else:  # Если break не сработал\n",
    "    print('Не нашли пятёрку')"
   ]
  },
  {
   "cell_type": "markdown",
   "metadata": {
    "id": "ne0T5cZbNhM1"
   },
   "source": [
    "## List comprehensions\n",
    "\n",
    "В Python есть очень удобная штука для создания производных списков под названием **list comprehension**. Общий вид: \n",
    "\n",
    "```python\n",
    "[expression for i in some_list if condition]\n",
    "```\n",
    "\n",
    "Пример создания списка квадратов чётных чисел меньше 10:"
   ]
  },
  {
   "cell_type": "code",
   "execution_count": null,
   "metadata": {
    "colab": {
     "base_uri": "https://localhost:8080/"
    },
    "id": "jqm_BkJWNhM1",
    "outputId": "5fa74c92-f28d-4335-bad9-66aeb8e75899"
   },
   "outputs": [],
   "source": [
    "[x**2 for x in range(10) if x % 2 == 0] "
   ]
  },
  {
   "cell_type": "markdown",
   "metadata": {
    "id": "UemBU8QbNhM1"
   },
   "source": [
    "## Generator expressions\n",
    "\n",
    "Аналогично созданию списка, можно компактно записать создание генератора. Забегая вперед, **генератор** - это объект, который  хранит в памяти последний вычисленный элемент, правило перехода к следующему и условие, при котором выполнение прерывается."
   ]
  },
  {
   "cell_type": "code",
   "execution_count": null,
   "metadata": {
    "colab": {
     "base_uri": "https://localhost:8080/"
    },
    "id": "lEmaHHiYNhM1",
    "outputId": "73e4f5e6-7dcb-4936-80e4-7b900815e9e2"
   },
   "outputs": [],
   "source": [
    "sum([x*x for x in range(10)]) # list comprehension\n",
    "sum(x*x for x in range(10))   # generator expression\n",
    "\n",
    "print(type([x*x for x in range(10)]))\n",
    "print(type(x*x for x in range(10)))"
   ]
  },
  {
   "cell_type": "markdown",
   "metadata": {
    "id": "TCFQGe8ENhM3"
   },
   "source": [
    "### Задача 1\n",
    "\n",
    "**Вход:** матрица (список списков)\n",
    "\n",
    "**Вывести:** [транспонированная матрица](https://ru.wikipedia.org/wiki/%D0%A2%D1%80%D0%B0%D0%BD%D1%81%D0%BF%D0%BE%D0%BD%D0%B8%D1%80%D0%BE%D0%B2%D0%B0%D0%BD%D0%BD%D0%B0%D1%8F_%D0%BC%D0%B0%D1%82%D1%80%D0%B8%D1%86%D0%B0)\n",
    "\n",
    "**Дополнительно** - сделать это в одну строку"
   ]
  },
  {
   "cell_type": "markdown",
   "metadata": {},
   "source": [
    "Транспонирование -- замена строк на столбцы, \"отражение\" матрицы относительно главной диагонали, например: $$\n",
    "\\begin{bmatrix}\n",
    "1 & 2  \\\\\n",
    "3 & 4 \\end{bmatrix}^{\\mathrm{T}} \\!\\! \\;\\!\n",
    "= \\,\n",
    "\\begin{bmatrix}\n",
    "1 & 3  \\\\\n",
    "2 & 4 \\end{bmatrix}\n",
    "$$"
   ]
  },
  {
   "cell_type": "code",
   "execution_count": null,
   "metadata": {
    "id": "Y6QYaAwLNhM3",
    "outputId": "2e6118b5-49a2-43db-acfb-db8e1bf887a9"
   },
   "outputs": [],
   "source": [
    "mat = [[1, 2, 3],\n",
    "       [4, 5, 6],\n",
    "       [7, 8, 9]]\n",
    "\n",
    "# YOUR CODE HERE"
   ]
  },
  {
   "cell_type": "markdown",
   "metadata": {
    "id": "tFtZvzgNNhM4"
   },
   "source": [
    "### Задача 2\n",
    "\n",
    "**Вход:** две матрицы\n",
    "\n",
    "**Вывести:** сумма матриц\n",
    "\n",
    "**Дополнительно** - сделать это в одну строку"
   ]
  },
  {
   "cell_type": "code",
   "execution_count": null,
   "metadata": {
    "id": "GroPeQHDNhM4",
    "outputId": "b1ffce64-e7e2-459e-86b1-df5d7aa9885b"
   },
   "outputs": [],
   "source": [
    "mat1 = [[1, 2, 3],\n",
    "       [4, 5, 6],\n",
    "       [7, 8, 9]]\n",
    "\n",
    "mat2 = [[1, 4, 7], \n",
    "        [2, 5, 8], \n",
    "        [3, 6, 9]]\n",
    "\n",
    "# YOUR CODE HERE"
   ]
  },
  {
   "cell_type": "markdown",
   "metadata": {
    "id": "zYOMEBe_NSuj"
   },
   "source": [
    "## Строка"
   ]
  },
  {
   "cell_type": "markdown",
   "metadata": {
    "id": "WFjOlLUUNhM1"
   },
   "source": [
    "Еще пара полезных функции при работе со строками: `split(str)` и `str.join(list)`"
   ]
  },
  {
   "cell_type": "code",
   "execution_count": null,
   "metadata": {
    "id": "b6iLzRlsNhM1",
    "outputId": "b6a9e8f7-97e2-4bad-e4a7-5b2f539292ad"
   },
   "outputs": [],
   "source": [
    "a = 'Привет, я обычное предложение, во мне есть слова и пробелы'.split(' ')\n",
    "print(a)\n",
    "\n",
    "b = ' '.join(a)\n",
    "print(b)\n",
    "\n",
    "c = b.split('е')\n",
    "print(c)\n",
    "\n",
    "d = 'э'.join(c)\n",
    "print(d)"
   ]
  },
  {
   "cell_type": "markdown",
   "metadata": {},
   "source": [
    "## Список"
   ]
  },
  {
   "cell_type": "code",
   "execution_count": null,
   "metadata": {},
   "outputs": [],
   "source": [
    "l = [3, '2', True]"
   ]
  },
  {
   "cell_type": "code",
   "execution_count": null,
   "metadata": {
    "colab": {
     "base_uri": "https://localhost:8080/"
    },
    "id": "tO2EuoQo9FU9",
    "outputId": "7daa9241-6ae6-4835-f604-baa895035aa3"
   },
   "outputs": [],
   "source": [
    "l.append('new_element')\n",
    "l"
   ]
  },
  {
   "cell_type": "code",
   "execution_count": null,
   "metadata": {
    "colab": {
     "base_uri": "https://localhost:8080/"
    },
    "id": "0osjIF1J9NrI",
    "outputId": "fcec5834-1396-4a8c-9b81-1feb6dd63fc0"
   },
   "outputs": [],
   "source": [
    "l.remove('2')\n",
    "l"
   ]
  },
  {
   "cell_type": "code",
   "execution_count": null,
   "metadata": {
    "id": "pqShRCMmcAcJ"
   },
   "outputs": [],
   "source": [
    "del l[0]\n",
    "l"
   ]
  },
  {
   "cell_type": "markdown",
   "metadata": {
    "id": "5jecfrxtNhMy"
   },
   "source": [
    "Оператор связывания не создаёт копии контейнеров:"
   ]
  },
  {
   "cell_type": "code",
   "execution_count": null,
   "metadata": {
    "colab": {
     "base_uri": "https://localhost:8080/"
    },
    "id": "FjcLbJz2NhMy",
    "outputId": "92e9f8a6-c968-496c-cf71-162f0d49148c"
   },
   "outputs": [],
   "source": [
    "small = [1, 1, 1]\n",
    "big = [small] * 3 \n",
    "print(small)\n",
    "print(big)"
   ]
  },
  {
   "cell_type": "code",
   "execution_count": null,
   "metadata": {
    "colab": {
     "base_uri": "https://localhost:8080/"
    },
    "id": "hz6PNFxH9754",
    "outputId": "6f29a5c8-042a-40f0-c8dd-549d93b23e59"
   },
   "outputs": [],
   "source": [
    "small[0] = 0\n",
    "print(small)\n",
    "print(big)"
   ]
  },
  {
   "cell_type": "code",
   "execution_count": null,
   "metadata": {
    "colab": {
     "base_uri": "https://localhost:8080/"
    },
    "id": "SCDJT0Xo99Dh",
    "outputId": "f48f9ca3-ac6d-4283-ea0a-4f431194627a"
   },
   "outputs": [],
   "source": [
    "big[0][0] = 2\n",
    "print(small)\n",
    "print(big)"
   ]
  },
  {
   "cell_type": "code",
   "execution_count": null,
   "metadata": {
    "id": "PE1M1Cx-cpyg"
   },
   "outputs": [],
   "source": [
    "from copy import deepcopy"
   ]
  },
  {
   "cell_type": "markdown",
   "metadata": {
    "id": "WZqNrqjb_b8X"
   },
   "source": [
    "### Срезы"
   ]
  },
  {
   "cell_type": "markdown",
   "metadata": {
    "id": "yciS4Jk2NhMy"
   },
   "source": [
    "**Срезы (slices)** позволяют получать диапазоны элементов из контейнеров:"
   ]
  },
  {
   "cell_type": "code",
   "execution_count": null,
   "metadata": {
    "id": "OvGgTnrB-L4P"
   },
   "outputs": [],
   "source": [
    "tea_party = ('Rabbit', 'Bear', 'Fox', 'Turtle')"
   ]
  },
  {
   "cell_type": "markdown",
   "metadata": {
    "id": "Gto2FRil-OYM"
   },
   "source": [
    "Шаблон срезов: `tea_party[a:b:s]`"
   ]
  },
  {
   "cell_type": "code",
   "execution_count": null,
   "metadata": {
    "colab": {
     "base_uri": "https://localhost:8080/"
    },
    "id": "r0KPWVtb-Mmw",
    "outputId": "25d6a7df-6b05-4045-ffb7-56c73d1f7a25"
   },
   "outputs": [],
   "source": [
    "tea_party[:]  # Если нет ни a, ни b - выводится список целиком"
   ]
  },
  {
   "cell_type": "code",
   "execution_count": null,
   "metadata": {
    "colab": {
     "base_uri": "https://localhost:8080/"
    },
    "id": "egYkDfoE-Vyn",
    "outputId": "79ba4cc3-e9b1-4184-b239-45e537901cb3"
   },
   "outputs": [],
   "source": [
    "tea_party[1:3]  # а включительно, b НЕ включительно"
   ]
  },
  {
   "cell_type": "code",
   "execution_count": null,
   "metadata": {
    "colab": {
     "base_uri": "https://localhost:8080/"
    },
    "id": "76TSrHEE-XCp",
    "outputId": "485b0b49-4a8b-4ae3-9541-707230c7c81d"
   },
   "outputs": [],
   "source": [
    "tea_party[:2]"
   ]
  },
  {
   "cell_type": "code",
   "execution_count": null,
   "metadata": {
    "colab": {
     "base_uri": "https://localhost:8080/"
    },
    "id": "tURD7U7C-W3n",
    "outputId": "09b60ed9-9c61-46f0-e27e-a1737f1c70e1"
   },
   "outputs": [],
   "source": [
    "tea_party[3:]"
   ]
  },
  {
   "cell_type": "code",
   "execution_count": null,
   "metadata": {
    "colab": {
     "base_uri": "https://localhost:8080/"
    },
    "id": "i_zYz4Wn-aVh",
    "outputId": "a3f6d528-bb1e-4550-fefb-26fa5b441862"
   },
   "outputs": [],
   "source": [
    "tea_party[:-1]  # Все элементы списка, кроме последнего"
   ]
  },
  {
   "cell_type": "code",
   "execution_count": null,
   "metadata": {
    "colab": {
     "base_uri": "https://localhost:8080/"
    },
    "id": "D9Habr9B-buC",
    "outputId": "e4be6ebc-c722-44d2-d6b2-258ec3bc054b"
   },
   "outputs": [],
   "source": [
    "tea_party[0:5:2]  # Ещё можно задать шаг прохода s - в данном случае элементы выводятся \"через один\""
   ]
  },
  {
   "cell_type": "code",
   "execution_count": null,
   "metadata": {
    "colab": {
     "base_uri": "https://localhost:8080/"
    },
    "id": "y0C1inl9-djI",
    "outputId": "6f37a433-bbb4-4fd6-cba1-143df07ee2f7"
   },
   "outputs": [],
   "source": [
    "tea_party[::-1]  # Если задать шаг равным -1, список можно развернуть, но лучше использовать reversed"
   ]
  },
  {
   "cell_type": "markdown",
   "metadata": {
    "id": "8DoZeUw7NhMz"
   },
   "source": [
    "С помощью срезов можно и изменять элементы контейнеров:"
   ]
  },
  {
   "cell_type": "code",
   "execution_count": null,
   "metadata": {
    "colab": {
     "base_uri": "https://localhost:8080/"
    },
    "id": "IhPdSQju-jYn",
    "outputId": "0b1e20ad-0e90-4338-8cd9-dbd5a56b8846"
   },
   "outputs": [],
   "source": [
    "tea_party_list = list(tea_party)\n",
    "print(tea_party_list)"
   ]
  },
  {
   "cell_type": "code",
   "execution_count": null,
   "metadata": {
    "colab": {
     "base_uri": "https://localhost:8080/"
    },
    "id": "XMgP-8ac-nE_",
    "outputId": "1fe4aead-ac1a-4b62-8678-4ec359ae7112"
   },
   "outputs": [],
   "source": [
    "tea_party_list[1:3] = ['Cat','Whale', 'True']\n",
    "print(tea_party_list)"
   ]
  },
  {
   "cell_type": "markdown",
   "metadata": {
    "id": "IQIE5kNJ_e7k"
   },
   "source": [
    "Срезы аналогично применяются к **строкам**."
   ]
  },
  {
   "cell_type": "markdown",
   "metadata": {
    "id": "_Odygs1r_nOE"
   },
   "source": [
    "### Основные методы"
   ]
  },
  {
   "cell_type": "markdown",
   "metadata": {
    "id": "8GfectxYNhMz"
   },
   "source": [
    "Пройдемся по основным методам `list`."
   ]
  },
  {
   "cell_type": "code",
   "execution_count": null,
   "metadata": {
    "id": "qZZ9lRhUAAZr"
   },
   "outputs": [],
   "source": [
    "example_list = [9, 1, 3, 5, 7, 7, 7, 5, 3, 1]"
   ]
  },
  {
   "cell_type": "markdown",
   "metadata": {
    "id": "7d2zEUfD_4rn"
   },
   "source": [
    "`append(v)` добавляет в конец списка новый элемент:"
   ]
  },
  {
   "cell_type": "code",
   "execution_count": null,
   "metadata": {
    "colab": {
     "base_uri": "https://localhost:8080/"
    },
    "id": "eHJ3DbGZ_3vU",
    "outputId": "90598b38-5f68-4314-a0df-656ed1fe8ff4"
   },
   "outputs": [],
   "source": [
    "example_list.append(8)\n",
    "example_list"
   ]
  },
  {
   "cell_type": "markdown",
   "metadata": {
    "id": "lNhNtAlGAH-G"
   },
   "source": [
    "`insert(a, b)` вставляет элемент `b` в позицию с индексом `a` в список:"
   ]
  },
  {
   "cell_type": "code",
   "execution_count": null,
   "metadata": {
    "colab": {
     "base_uri": "https://localhost:8080/"
    },
    "id": "yfz8DPR3AIRL",
    "outputId": "270b807a-07cb-4107-c3a0-916274d3c3c8"
   },
   "outputs": [],
   "source": [
    "example_list.insert(1, 2)\n",
    "example_list"
   ]
  },
  {
   "cell_type": "markdown",
   "metadata": {
    "id": "rFP1DdyNEMnV"
   },
   "source": [
    "`remove(v)` удаляет из списка элемент со значением `v` (если `v` несколько - первое слева):"
   ]
  },
  {
   "cell_type": "code",
   "execution_count": null,
   "metadata": {
    "colab": {
     "base_uri": "https://localhost:8080/"
    },
    "id": "Ot18RgUHEM5e",
    "outputId": "fb1cf356-c0c6-443d-98b0-dfc1a4658f04"
   },
   "outputs": [],
   "source": [
    "example_list.remove(3)\n",
    "example_list"
   ]
  },
  {
   "cell_type": "markdown",
   "metadata": {
    "id": "HGt5c5vpEdcC"
   },
   "source": [
    "Чтобы удалить элемент по индексу, можем воспользоваться оператором `del`:"
   ]
  },
  {
   "cell_type": "code",
   "execution_count": null,
   "metadata": {
    "colab": {
     "base_uri": "https://localhost:8080/"
    },
    "id": "B-eDmiplEl9B",
    "outputId": "aeeb2970-9f7a-4f5d-8499-6e4d7512e345"
   },
   "outputs": [],
   "source": [
    "del example_list[4]\n",
    "example_list"
   ]
  },
  {
   "cell_type": "markdown",
   "metadata": {
    "id": "GOAp2-64Eqwo"
   },
   "source": [
    "`count(v)` возвращает число равных `v` элементов в списке:"
   ]
  },
  {
   "cell_type": "code",
   "execution_count": null,
   "metadata": {
    "colab": {
     "base_uri": "https://localhost:8080/"
    },
    "id": "0-L9HMZLE1N4",
    "outputId": "d0660240-023a-447f-b9e1-f1158dc259ac"
   },
   "outputs": [],
   "source": [
    "sevens = example_list.count(7)\n",
    "sevens"
   ]
  },
  {
   "cell_type": "markdown",
   "metadata": {
    "id": "gqfr07fEE0nx"
   },
   "source": [
    "`pop()` позволяет получить последний элемент списка, удалив его из списка:"
   ]
  },
  {
   "cell_type": "code",
   "execution_count": null,
   "metadata": {
    "colab": {
     "base_uri": "https://localhost:8080/"
    },
    "id": "cUG_DRifFbCy",
    "outputId": "2c102c2f-5755-405e-9f3b-0a612a7951cc"
   },
   "outputs": [],
   "source": [
    "last = example_list.pop()\n",
    "print(last, example_list)"
   ]
  },
  {
   "cell_type": "markdown",
   "metadata": {},
   "source": [
    "## Словарь"
   ]
  },
  {
   "cell_type": "markdown",
   "metadata": {
    "id": "_4Lm_PLWWtNr"
   },
   "source": [
    "Удобно итерироваться по парам *(ключ, значение)*:"
   ]
  },
  {
   "cell_type": "code",
   "execution_count": null,
   "metadata": {
    "id": "AaPHSuizWtNr",
    "outputId": "c758e325-30c0-4b68-da8b-759d44e6300b"
   },
   "outputs": [],
   "source": [
    "dictionary = {1: 'a', 2: 'b', 3: 'c'}\n",
    "\n",
    "for pair in dictionary.items():\n",
    "    print(pair)\n",
    "    \n",
    "for key, value in dictionary.items():\n",
    "    print(key, value)"
   ]
  },
  {
   "cell_type": "markdown",
   "metadata": {
    "id": "x-QUf-EeWtNr"
   },
   "source": [
    "Как еще можно создавать словари:"
   ]
  },
  {
   "cell_type": "code",
   "execution_count": null,
   "metadata": {
    "colab": {
     "base_uri": "https://localhost:8080/"
    },
    "id": "KsNHRynXd-PO",
    "outputId": "dbdacdd2-42b8-4e3f-e5b7-4ccbca1eda5d"
   },
   "outputs": [],
   "source": [
    "a = dict(a=1, b=2, c=3)\n",
    "a"
   ]
  },
  {
   "cell_type": "code",
   "execution_count": null,
   "metadata": {
    "colab": {
     "base_uri": "https://localhost:8080/"
    },
    "id": "G0aLuC22WtNr",
    "outputId": "ffc7922a-9cea-425b-9f5e-4823219e1660"
   },
   "outputs": [],
   "source": [
    "keys = [\"Petya\", \"Vasya\", \"Masha\"]\n",
    "values = [20, 21, 22]\n",
    "dictionary = dict(zip(keys, values))\n",
    "dictionary"
   ]
  },
  {
   "cell_type": "markdown",
   "metadata": {
    "id": "RTEbEf_iWtNs"
   },
   "source": [
    "Удаление элемента словаря:"
   ]
  },
  {
   "cell_type": "code",
   "execution_count": null,
   "metadata": {
    "colab": {
     "base_uri": "https://localhost:8080/"
    },
    "id": "-ixms2JmWtNs",
    "outputId": "d1bdbdcb-4347-4cb0-9c89-6557009a9abe"
   },
   "outputs": [],
   "source": [
    "del dictionary['Vasya']\n",
    "dictionary"
   ]
  },
  {
   "cell_type": "markdown",
   "metadata": {
    "id": "VAi8e8goWtNs"
   },
   "source": [
    "Объединение двух словарей:"
   ]
  },
  {
   "cell_type": "code",
   "execution_count": null,
   "metadata": {
    "id": "-ftoe0kaWtNs",
    "outputId": "206a2ff5-05fd-4f01-be1e-30e4cb1792db"
   },
   "outputs": [],
   "source": [
    "a.update(dictionary)  # Объединение двух словарей\n",
    "a"
   ]
  },
  {
   "cell_type": "markdown",
   "metadata": {
    "id": "DdTPIIipWtNs"
   },
   "source": [
    "По аналогии с **list comprehension**, существуют и **dict comprehension**:"
   ]
  },
  {
   "cell_type": "code",
   "execution_count": null,
   "metadata": {
    "id": "JxAGWyJDWtNs",
    "outputId": "2bca0af4-3a66-428c-bb6d-247b016e7fbc"
   },
   "outputs": [],
   "source": [
    "dct = {i: i**3 for i in range(5)}\n",
    "dct"
   ]
  },
  {
   "cell_type": "markdown",
   "metadata": {
    "id": "5N_z0X7nWtNt"
   },
   "source": [
    "Как аккуратно обрабатывать отсутствующие ключи:"
   ]
  },
  {
   "cell_type": "code",
   "execution_count": null,
   "metadata": {
    "id": "79ySRlJ3el_f"
   },
   "outputs": [],
   "source": [
    "dct = {1: 2, 3: 4}\n",
    "key = 5"
   ]
  },
  {
   "cell_type": "code",
   "execution_count": null,
   "metadata": {
    "colab": {
     "base_uri": "https://localhost:8080/",
     "height": 167
    },
    "id": "LT6usghcenMr",
    "outputId": "b1e8c25d-be65-44dd-cff2-50c157ddea3a"
   },
   "outputs": [],
   "source": [
    "dct[key]"
   ]
  },
  {
   "cell_type": "code",
   "execution_count": null,
   "metadata": {
    "colab": {
     "base_uri": "https://localhost:8080/"
    },
    "id": "UoqgYw1gWtNt",
    "outputId": "aa83f5b4-c2d5-480c-f7f8-85161079cc6a"
   },
   "outputs": [],
   "source": [
    "res1 = dct.get(key, 'not_found')\n",
    "res2 = dct.setdefault(key, 'default')\n",
    "print(res1, res2)\n",
    "\n",
    "dct = {1: 2, 3: 4, 5: 6}\n",
    "\n",
    "res1 = dct.get(key,'not_found')\n",
    "res2 = dct.setdefault(key, 'default')\n",
    "print(res1, res2)"
   ]
  },
  {
   "cell_type": "markdown",
   "metadata": {
    "id": "nn0646ZeWtNt"
   },
   "source": [
    "### Задача\n",
    "\n",
    "Необходимо обратить словарь, т.е. как создать словарь с обратными парами *(значение, ключ)*.\n",
    "\n",
    "Считаем, что в исходном словаре значения тоже являются хэшируемыми."
   ]
  },
  {
   "cell_type": "code",
   "execution_count": null,
   "metadata": {
    "id": "ZvE0Xpj8WtNt"
   },
   "outputs": [],
   "source": [
    "d = {1: 2, 2: 3, 3: 4}\n",
    "\n",
    "# YOUR CODE HERE"
   ]
  },
  {
   "cell_type": "markdown",
   "metadata": {
    "id": "8gdEc6WlWtNt"
   },
   "source": [
    "## Множество"
   ]
  },
  {
   "cell_type": "code",
   "execution_count": null,
   "metadata": {
    "colab": {
     "base_uri": "https://localhost:8080/"
    },
    "id": "KENjbxaDWtNu",
    "outputId": "639bdf9d-8f31-4be5-9e63-70b0ecfd4b57"
   },
   "outputs": [],
   "source": [
    "a = {1, 2, 3}\n",
    "b = set([2, 3, 4])\n",
    "\n",
    "a.add(5)\n",
    "b.update({5, 6})  # Объединить множество с другим множеством\n",
    "print(a, b)"
   ]
  },
  {
   "cell_type": "markdown",
   "metadata": {
    "id": "-FAFuv_NWtNu"
   },
   "source": [
    "Проверки с множествами:"
   ]
  },
  {
   "cell_type": "code",
   "execution_count": null,
   "metadata": {
    "colab": {
     "base_uri": "https://localhost:8080/"
    },
    "id": "EADCTVL7WtNu",
    "outputId": "4abf8d01-fded-4eac-9634-6f53c39f2402"
   },
   "outputs": [],
   "source": [
    "print(a, b)\n",
    "print(b.issubset(a))    # Эквивалентно to b <= a\n",
    "print(a.issuperset(b))  # Эквивалентно to a >= b\n",
    "print(a.isdisjoint(b))  # True если пустое пересечение; эквивалентно \"not a & b\""
   ]
  },
  {
   "cell_type": "markdown",
   "metadata": {
    "id": "hCYkM47SWtNv"
   },
   "source": [
    "Удаление элементов из множества осуществляется с помощью методов **remove** и **discard**:"
   ]
  },
  {
   "cell_type": "code",
   "execution_count": null,
   "metadata": {
    "colab": {
     "base_uri": "https://localhost:8080/",
     "height": 202
    },
    "id": "JLdgWFqUWtNv",
    "outputId": "b1508635-aa6e-4496-fb9c-0602ec7aa4d7",
    "scrolled": true
   },
   "outputs": [],
   "source": [
    "a = {1, 2, 3}\n",
    "a.remove(3)\n",
    "a.remove(3)"
   ]
  },
  {
   "cell_type": "code",
   "execution_count": null,
   "metadata": {
    "colab": {
     "base_uri": "https://localhost:8080/"
    },
    "id": "vK2I1BzcWtNv",
    "outputId": "ef54ed50-4c30-4a49-99b7-07b07b25d784"
   },
   "outputs": [],
   "source": [
    "a = {1,2,3}\n",
    "a.discard(3)\n",
    "a.discard(3)\n",
    "a"
   ]
  },
  {
   "cell_type": "markdown",
   "metadata": {
    "id": "Elbym4yoWtNv"
   },
   "source": [
    "Также существуют и генераторы множеств:"
   ]
  },
  {
   "cell_type": "code",
   "execution_count": null,
   "metadata": {
    "colab": {
     "base_uri": "https://localhost:8080/"
    },
    "id": "aJqirqt0WtNv",
    "outputId": "1eded84a-3747-4a06-bcf1-4a7c8aac876c"
   },
   "outputs": [],
   "source": [
    "st = {i for i in range(10) if not i % 3} \n",
    "st"
   ]
  },
  {
   "cell_type": "markdown",
   "metadata": {
    "id": "XZQZERhVFl6v"
   },
   "source": [
    "## Сортировка"
   ]
  },
  {
   "cell_type": "markdown",
   "metadata": {
    "id": "j4C1d7W-WVNr"
   },
   "source": [
    "Есть два варианта:"
   ]
  },
  {
   "cell_type": "markdown",
   "metadata": {
    "id": "_V-AGVmDWYTX"
   },
   "source": [
    "функция `sorted` возвращает отсортированную копию:"
   ]
  },
  {
   "cell_type": "code",
   "execution_count": null,
   "metadata": {
    "colab": {
     "base_uri": "https://localhost:8080/"
    },
    "id": "CTs8aLaeFuym",
    "outputId": "05742f62-6c37-4711-b991-b485051a88b6"
   },
   "outputs": [],
   "source": [
    "sorted(example_list)"
   ]
  },
  {
   "cell_type": "code",
   "execution_count": null,
   "metadata": {
    "colab": {
     "base_uri": "https://localhost:8080/"
    },
    "id": "xIk0a5dneHX4",
    "outputId": "6712f28f-f10a-4b12-c33f-77790dad5f42"
   },
   "outputs": [],
   "source": [
    "example_list"
   ]
  },
  {
   "cell_type": "markdown",
   "metadata": {
    "id": "N6I6_fjpWcB_"
   },
   "source": [
    "метод `sort` сортирует in-place:"
   ]
  },
  {
   "cell_type": "code",
   "execution_count": null,
   "metadata": {
    "colab": {
     "base_uri": "https://localhost:8080/"
    },
    "id": "HgEMpkF5NhMz",
    "outputId": "e7ee81a7-beed-4a17-da0e-ad0ba1afabb6"
   },
   "outputs": [],
   "source": [
    "example_list.sort()  # Сортируем список \n",
    "print('After sort:', example_list)"
   ]
  },
  {
   "cell_type": "markdown",
   "metadata": {
    "id": "vD_8toyqWoUS"
   },
   "source": [
    "Можно сортировать в обратном порядке (по убыванию) и по конкретному правилу (с помощью функции) - аргументы `reversed` и `key`."
   ]
  },
  {
   "cell_type": "code",
   "execution_count": null,
   "metadata": {
    "colab": {
     "base_uri": "https://localhost:8080/"
    },
    "id": "jy8oGQoheNwf",
    "outputId": "ff26f965-1f0f-41fd-fb3d-f9465f48950f"
   },
   "outputs": [],
   "source": [
    "sorted(example_list, reverse=True)"
   ]
  },
  {
   "cell_type": "markdown",
   "metadata": {
    "id": "lTMsWo1KGgKR"
   },
   "source": [
    "## Встроенные функции"
   ]
  },
  {
   "cell_type": "markdown",
   "metadata": {
    "id": "PH2DlazENhM0"
   },
   "source": [
    "Также при работе с контейнерами часто используются функции `len`, `sum`, `min`, `max`:"
   ]
  },
  {
   "cell_type": "code",
   "execution_count": null,
   "metadata": {
    "id": "tkENlPDNGt9_"
   },
   "outputs": [],
   "source": [
    "example_list = [1, 3, 5, 7, 7, 7, 5, 3, 1]"
   ]
  },
  {
   "cell_type": "code",
   "execution_count": null,
   "metadata": {
    "colab": {
     "base_uri": "https://localhost:8080/"
    },
    "id": "8Zdl2F8RGubl",
    "outputId": "faeb5d6f-c4c5-452d-de75-ff71b8f7ae04"
   },
   "outputs": [],
   "source": [
    "len(example_list)"
   ]
  },
  {
   "cell_type": "code",
   "execution_count": null,
   "metadata": {
    "colab": {
     "base_uri": "https://localhost:8080/"
    },
    "id": "ZOHuPnD7Gvs3",
    "outputId": "eb8788e9-6495-44e2-8927-bc423e9dcb21"
   },
   "outputs": [],
   "source": [
    "sum(example_list)"
   ]
  },
  {
   "cell_type": "code",
   "execution_count": null,
   "metadata": {
    "colab": {
     "base_uri": "https://localhost:8080/"
    },
    "id": "W8L646A7Gzh4",
    "outputId": "0becdace-f66a-4ffd-c910-028de4edee8c"
   },
   "outputs": [],
   "source": [
    "max(example_list)"
   ]
  },
  {
   "cell_type": "code",
   "execution_count": null,
   "metadata": {
    "colab": {
     "base_uri": "https://localhost:8080/"
    },
    "id": "foLlaUVOG0lm",
    "outputId": "ca439dd4-1a17-4cf3-f941-24c457af9277"
   },
   "outputs": [],
   "source": [
    "min(example_list)"
   ]
  },
  {
   "cell_type": "markdown",
   "metadata": {
    "id": "uzEs-vcFNhM0"
   },
   "source": [
    "Функция `zip` позволяет создать поэлементные кортежи из нескольких контейнеров / генераторов (завершается по минимальному размеру из аргументов):"
   ]
  },
  {
   "cell_type": "code",
   "execution_count": null,
   "metadata": {
    "colab": {
     "base_uri": "https://localhost:8080/"
    },
    "id": "a1Ff6IKBNhM0",
    "outputId": "d9fec4eb-6d6a-4a91-a035-9be2628ea9f0"
   },
   "outputs": [],
   "source": [
    "for pair in zip(('first', 'second'), 'abc', [1, 2, 3]):\n",
    "    print(pair)"
   ]
  },
  {
   "cell_type": "markdown",
   "metadata": {
    "id": "td2EDvX5NhM0"
   },
   "source": [
    "В Python существует **оператор распаковки**:"
   ]
  },
  {
   "cell_type": "code",
   "execution_count": null,
   "metadata": {
    "colab": {
     "base_uri": "https://localhost:8080/"
    },
    "id": "qk3UZ1sWNhM1",
    "outputId": "b91c1a0f-3608-408a-cd79-cc753b397ac9"
   },
   "outputs": [],
   "source": [
    "spisok = [1, 2, 3, 4, 5]\n",
    "\n",
    "print(spisok)   # Печатаем список\n",
    "print(*spisok)  # Печатаем элементы списка, эквивалент - print(spisok[0], spisok[1], ...)"
   ]
  },
  {
   "cell_type": "code",
   "execution_count": null,
   "metadata": {},
   "outputs": [],
   "source": [
    "numbers = [4, 8, 15, 16, 23, 42]\n",
    "a, b, c, d, e, f = numbers"
   ]
  },
  {
   "cell_type": "code",
   "execution_count": null,
   "metadata": {},
   "outputs": [],
   "source": [
    "colors = ('red', 'green', 'blue')\n",
    "red_variable, *other_colors = colors"
   ]
  },
  {
   "cell_type": "code",
   "execution_count": null,
   "metadata": {},
   "outputs": [],
   "source": [
    "letters = 'abcdefgh'\n",
    "*other, prev, last = letters"
   ]
  },
  {
   "cell_type": "code",
   "execution_count": null,
   "metadata": {},
   "outputs": [],
   "source": [
    "# поменять значения a и b местами\n",
    "a = 10\n",
    "b = 20\n",
    "print(a, b)\n",
    "\n",
    "a, b = b, a\n",
    "print(a, b)"
   ]
  }
 ],
 "metadata": {
  "celltoolbar": "Слайд-шоу",
  "colab": {
   "collapsed_sections": [
    "XZQZERhVFl6v",
    "2o8891ORNhM2",
    "YYkHuSDVNhM2",
    "wyktYI4sNhM3",
    "tFtZvzgNNhM4"
   ],
   "provenance": []
  },
  "kernelspec": {
   "display_name": "Python 3 (ipykernel)",
   "language": "python",
   "name": "python3"
  },
  "language_info": {
   "codemirror_mode": {
    "name": "ipython",
    "version": 3
   },
   "file_extension": ".py",
   "mimetype": "text/x-python",
   "name": "python",
   "nbconvert_exporter": "python",
   "pygments_lexer": "ipython3",
   "version": "3.10.10"
  }
 },
 "nbformat": 4,
 "nbformat_minor": 1
}
