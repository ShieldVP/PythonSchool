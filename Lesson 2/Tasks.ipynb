{
 "cells": [
  {
   "cell_type": "markdown",
   "id": "553f089f",
   "metadata": {},
   "source": [
    "# Задачки"
   ]
  },
  {
   "cell_type": "markdown",
   "id": "9e27b0ed",
   "metadata": {},
   "source": [
    "1. Дан список чисел, вывести список его элементов, которые по модулю больше 3.\n",
    "2. Выполните последовательность действий:\n",
    "    1. Добавить новый элемент типа str в конец списка\n",
    "    2. Добавить новый элемент типа int на место с индексом 3\n",
    "    3. Добавить новый элемент типа list в конец списка\n",
    "    4. Заменить предпоследний элемент на объект типа tuple\n",
    "    5. Получить элемент по индексу 5\n",
    "    6. Удалить элемент 2\n",
    "    7. Найти число повторений 1\n",
    "3. Проверьте, есть ли в последовательности дубликаты.\n",
    "4. Отсортирует список и найдите количество различных чисел в нём (пользуясь отсортированным списком). Не использовать встроенные функции и подход из предыдущей задачи.\n",
    "5. _* Заполнение матрицы по спирали_. Напишите программу, которая создает матрицу размером n х m, заполнив ее по спирали числами от 1 до n x m. Спираль начинается в левом верхнем углу и закручивается по часовой стрелке."
   ]
  },
  {
   "cell_type": "markdown",
   "id": "99ef2c29",
   "metadata": {},
   "source": [
    "## Задача 1"
   ]
  },
  {
   "cell_type": "code",
   "execution_count": null,
   "id": "99796cc6",
   "metadata": {},
   "outputs": [],
   "source": [
    "l = [0, 1, 2, 3, -4, -5, 3.5, -2.5]\n",
    "\n",
    "# YOUR CODE HERE"
   ]
  },
  {
   "cell_type": "markdown",
   "id": "5bce2bf7",
   "metadata": {},
   "source": [
    "## Задача 2"
   ]
  },
  {
   "cell_type": "code",
   "execution_count": null,
   "id": "afee8f94",
   "metadata": {},
   "outputs": [],
   "source": [
    "l = ['start', None, 1, True, 2, {False}, 3]\n",
    "\n",
    "# A\n",
    "...\n",
    "print(l)\n",
    "\n",
    "# B\n",
    "...\n",
    "print(l)\n",
    "\n",
    "# C\n",
    "...\n",
    "print(l)\n",
    "\n",
    "# D\n",
    "...\n",
    "print(l)\n",
    "\n",
    "# E\n",
    "print(...)\n",
    "\n",
    "# F\n",
    "...\n",
    "print(l)\n",
    "\n",
    "# G\n",
    "print(...)"
   ]
  },
  {
   "cell_type": "markdown",
   "id": "35fd1c17",
   "metadata": {},
   "source": [
    "## Задача 3"
   ]
  },
  {
   "cell_type": "code",
   "execution_count": null,
   "id": "506dbcb0",
   "metadata": {},
   "outputs": [],
   "source": [
    "seq = [1, 2, 3, 4, -1, -2, 3, -4]\n",
    "\n",
    "# YOUR CODE HERE"
   ]
  },
  {
   "cell_type": "markdown",
   "id": "a3008a7c",
   "metadata": {},
   "source": [
    "## Задача 4"
   ]
  },
  {
   "cell_type": "code",
   "execution_count": null,
   "id": "b00b6945",
   "metadata": {},
   "outputs": [],
   "source": [
    "l = [1, 2, 3, 2, 3, 1, 2, 5, 0, 2, 1, 8]\n",
    "\n",
    "# YOUR CODE HERE"
   ]
  },
  {
   "cell_type": "markdown",
   "id": "b2edd05e",
   "metadata": {},
   "source": [
    "## Задача 5"
   ]
  },
  {
   "cell_type": "code",
   "execution_count": null,
   "id": "271acea2",
   "metadata": {},
   "outputs": [],
   "source": [
    "n = int(input())\n",
    "m = int(input())\n",
    "\n",
    "# YOUR CODE HERE"
   ]
  }
 ],
 "metadata": {
  "kernelspec": {
   "display_name": "Python 3 (ipykernel)",
   "language": "python",
   "name": "python3"
  },
  "language_info": {
   "codemirror_mode": {
    "name": "ipython",
    "version": 3
   },
   "file_extension": ".py",
   "mimetype": "text/x-python",
   "name": "python",
   "nbconvert_exporter": "python",
   "pygments_lexer": "ipython3",
   "version": "3.10.10"
  }
 },
 "nbformat": 4,
 "nbformat_minor": 5
}
