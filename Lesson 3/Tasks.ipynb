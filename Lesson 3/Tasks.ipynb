{
 "cells": [
  {
   "cell_type": "markdown",
   "id": "f4b2b3db",
   "metadata": {},
   "source": [
    "# Задачки"
   ]
  },
  {
   "cell_type": "markdown",
   "id": "8308c0e8",
   "metadata": {},
   "source": [
    "1. Напишите функцию `min4(a, b, c, d)`, возвращающую минимум четырех чисел.\n",
    "2. Дано действительное положительное число $a$ и целое неотрицательное число $n$. Напишите функцию `power(a, n)`, вычисляющую $a^n$, не используя циклы и прямое возведение в степень, а используя рекуррентное соотношение.\n",
    "3. Напишите функцию `fib(n)`, которая по данному целому неотрицательному $n$ возвращает $n$-e число Фибоначчи ($F_n = F_{n-1} + F_{n-2}, F_0 = 0, F_1 = 1$).\n",
    "4. Найдите ошибку в функции и исправьте её (менять можно только функцию `foo`).\n",
    "5. Найдите ошибку в функции и исправьте её (менять можно только функцию `time_now`).\n",
    "6. Напишите функцию `minimum`, которая принимает на вход произвольное число чисел (гарантируется, что передаётся хотя бы одно) и выдаёт минимальное из них.\n",
    "7. Отсортируйте список чисел по количеству цифр в десятичном представлении этих чисел.\n",
    "8. Напишите генератор `square_fibonacci(n)`, генерирующий последовательность квадратов чисел Фибоначчи."
   ]
  },
  {
   "cell_type": "markdown",
   "id": "b3e6f069",
   "metadata": {},
   "source": [
    "## Задача 1"
   ]
  },
  {
   "cell_type": "code",
   "execution_count": null,
   "id": "37b46c11",
   "metadata": {},
   "outputs": [],
   "source": [
    "# YOUR CODE HERE"
   ]
  },
  {
   "cell_type": "code",
   "execution_count": null,
   "id": "3a9d73c0",
   "metadata": {},
   "outputs": [],
   "source": [
    "min4(-1, 0, 1.5, 10) == -1"
   ]
  },
  {
   "cell_type": "markdown",
   "id": "78e8e9f3",
   "metadata": {},
   "source": [
    "## Задача 2"
   ]
  },
  {
   "cell_type": "code",
   "execution_count": null,
   "id": "b1d63229",
   "metadata": {},
   "outputs": [],
   "source": [
    "# YOUR CODE HERE"
   ]
  },
  {
   "cell_type": "code",
   "execution_count": null,
   "id": "8c275c5d",
   "metadata": {},
   "outputs": [],
   "source": [
    "power(8, 3) == 8**3"
   ]
  },
  {
   "cell_type": "markdown",
   "id": "377e350c",
   "metadata": {},
   "source": [
    "## Задача 3"
   ]
  },
  {
   "cell_type": "code",
   "execution_count": null,
   "id": "ddd5a5a9",
   "metadata": {},
   "outputs": [],
   "source": [
    "# YOUR CODE HERE"
   ]
  },
  {
   "cell_type": "code",
   "execution_count": null,
   "id": "6b4b17ff",
   "metadata": {},
   "outputs": [],
   "source": [
    "fib(10) == 55"
   ]
  },
  {
   "cell_type": "markdown",
   "id": "5f6fb6a1",
   "metadata": {},
   "source": [
    "## Задача 4"
   ]
  },
  {
   "cell_type": "code",
   "execution_count": null,
   "id": "7e5a8999",
   "metadata": {
    "scrolled": true
   },
   "outputs": [],
   "source": [
    "def foo(x, a=[]):\n",
    "    if x > 10:\n",
    "        x += 10\n",
    "    else:\n",
    "        x *= 10 \n",
    "    a.append(x)\n",
    "    return a\n",
    "\n",
    "print('получилось', foo(2, [1]), 'хотим', [1, 20])\n",
    "print('получилось', foo(2), 'хотим', [20])\n",
    "print('получилось', foo(20), 'хотим', [30])"
   ]
  },
  {
   "cell_type": "markdown",
   "id": "3ee74474",
   "metadata": {},
   "source": [
    "## Задача 5"
   ]
  },
  {
   "cell_type": "code",
   "execution_count": null,
   "id": "6f42a440",
   "metadata": {},
   "outputs": [],
   "source": [
    "from datetime import datetime\n",
    "from time import sleep\n",
    " \n",
    "## Задача 5\n",
    "def time_now(msg, *, dt=datetime.now()):\n",
    "    print(msg, dt)\n",
    "\n",
    "    \n",
    "# Тесты\n",
    "time_now('Сейчас такое время: ')\n",
    "sleep(1)\n",
    "time_now('Прошла секунда: ')\n",
    "sleep(1)\n",
    "time_now('Ничего не понимаю... ')"
   ]
  },
  {
   "cell_type": "markdown",
   "id": "d4864a89",
   "metadata": {},
   "source": [
    "## Задача 6"
   ]
  },
  {
   "cell_type": "code",
   "execution_count": null,
   "id": "a167a112",
   "metadata": {},
   "outputs": [],
   "source": [
    "# YOUR CODE HERE"
   ]
  },
  {
   "cell_type": "code",
   "execution_count": null,
   "id": "c46598fc",
   "metadata": {},
   "outputs": [],
   "source": [
    "print(minimum(1) == 1)\n",
    "print(minimum(1, 2) == 1)\n",
    "print(minimum(*([1] * 1000)) == 1)\n",
    "print(minimum(-3.0, 0, 15) == -3.0)"
   ]
  },
  {
   "cell_type": "markdown",
   "id": "3fee678e",
   "metadata": {},
   "source": [
    "## Задача 7"
   ]
  },
  {
   "cell_type": "code",
   "execution_count": null,
   "id": "e53bd1a4",
   "metadata": {},
   "outputs": [],
   "source": [
    "# YOUR CODE HERE"
   ]
  },
  {
   "cell_type": "markdown",
   "id": "4db4a241",
   "metadata": {},
   "source": [
    "## Задача 8"
   ]
  },
  {
   "cell_type": "code",
   "execution_count": null,
   "id": "797ab356",
   "metadata": {},
   "outputs": [],
   "source": [
    "# YOUR CODE HERE"
   ]
  },
  {
   "cell_type": "code",
   "execution_count": null,
   "id": "7f06bd39",
   "metadata": {},
   "outputs": [],
   "source": [
    "[i for i in square_fibonacci(7)] == [0, 1, 1, 4, 9, 25, 64]"
   ]
  }
 ],
 "metadata": {
  "kernelspec": {
   "display_name": "Python 3 (ipykernel)",
   "language": "python",
   "name": "python3"
  },
  "language_info": {
   "codemirror_mode": {
    "name": "ipython",
    "version": 3
   },
   "file_extension": ".py",
   "mimetype": "text/x-python",
   "name": "python",
   "nbconvert_exporter": "python",
   "pygments_lexer": "ipython3",
   "version": "3.10.10"
  }
 },
 "nbformat": 4,
 "nbformat_minor": 5
}
