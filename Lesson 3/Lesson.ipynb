{
 "cells": [
  {
   "cell_type": "markdown",
   "metadata": {},
   "source": [
    "# Python 3. Занятие 3"
   ]
  },
  {
   "cell_type": "markdown",
   "metadata": {
    "id": "hsOk4qrOGDZA"
   },
   "source": [
    "# Функции"
   ]
  },
  {
   "cell_type": "markdown",
   "metadata": {
    "id": "JRyWnPk7XAf7"
   },
   "source": [
    "## Базовый синтаксис\n",
    "\n",
    "Объявление и вызов функции в Python:"
   ]
  },
  {
   "cell_type": "code",
   "execution_count": null,
   "metadata": {},
   "outputs": [],
   "source": [
    "list(None)"
   ]
  },
  {
   "cell_type": "code",
   "execution_count": null,
   "metadata": {
    "id": "LRZ9DjleGDZB"
   },
   "outputs": [],
   "source": [
    "def foo(a, b):\n",
    "    print('a =', a, 'b =', b)"
   ]
  },
  {
   "cell_type": "code",
   "execution_count": null,
   "metadata": {
    "colab": {
     "base_uri": "https://localhost:8080/"
    },
    "id": "oNm8ozySYi3Y",
    "outputId": "a9269d4b-e88c-42c4-a8c1-252dcc6edc33"
   },
   "outputs": [],
   "source": [
    "foo(1, 'b')"
   ]
  },
  {
   "cell_type": "markdown",
   "metadata": {
    "id": "VH1-T4YhGDZC"
   },
   "source": [
    "## Аргументы по умолчанию"
   ]
  },
  {
   "cell_type": "code",
   "execution_count": null,
   "metadata": {
    "id": "EkeB_-HaGDZC"
   },
   "outputs": [],
   "source": [
    "def foo(a, b, c=0.5, d=(None,)):\n",
    "    print('a =', a, 'b =', b, 'c =', c, 'd =', d)"
   ]
  },
  {
   "cell_type": "code",
   "execution_count": null,
   "metadata": {
    "colab": {
     "base_uri": "https://localhost:8080/"
    },
    "id": "aArJ1nREYklu",
    "outputId": "4bc4f164-d634-4117-c5cd-d7de27aacd44"
   },
   "outputs": [],
   "source": [
    "foo(1, 'b')"
   ]
  },
  {
   "cell_type": "code",
   "execution_count": null,
   "metadata": {
    "colab": {
     "base_uri": "https://localhost:8080/"
    },
    "id": "opqHNUgMYlfG",
    "outputId": "c514768c-c5ab-4473-b4ed-c0e4b8bf43cc"
   },
   "outputs": [],
   "source": [
    "foo(1, 'b', 0.3)"
   ]
  },
  {
   "cell_type": "code",
   "execution_count": null,
   "metadata": {
    "colab": {
     "base_uri": "https://localhost:8080/"
    },
    "id": "i0o7TFmdYmt9",
    "outputId": "42c7e7f8-dcb9-413d-c646-734b0a13ba18"
   },
   "outputs": [],
   "source": [
    "foo(1, 'b', d='d')"
   ]
  },
  {
   "cell_type": "code",
   "execution_count": null,
   "metadata": {
    "colab": {
     "base_uri": "https://localhost:8080/"
    },
    "id": "bofZY7SGYnhD",
    "outputId": "c9fceb21-b359-4b0a-99b4-a25116ef0e9b"
   },
   "outputs": [],
   "source": [
    "foo(1, d='d', c=0.3, b='b')"
   ]
  },
  {
   "cell_type": "markdown",
   "metadata": {
    "id": "1OGujE1YXGnL"
   },
   "source": [
    "## Способ передачи аргументов"
   ]
  },
  {
   "cell_type": "markdown",
   "metadata": {
    "id": "A0GM_rjQGDZD"
   },
   "source": [
    "Изменяемые аргументы передаются по ссылке, неизменяемые - по значению:"
   ]
  },
  {
   "cell_type": "code",
   "execution_count": null,
   "metadata": {
    "id": "bO7yrqhkGDZD"
   },
   "outputs": [],
   "source": [
    "def get_my_hero_team(team, number):\n",
    "    number = 10\n",
    "    team['Chuck'] = 'Norris'\n",
    "    team['Sylvester'] = 'Stallone'"
   ]
  },
  {
   "cell_type": "code",
   "execution_count": null,
   "metadata": {
    "id": "TripdWpiYywD"
   },
   "outputs": [],
   "source": [
    "number = 5\n",
    "hero_team = {'Bruce': 'Willis', 'Chuck': 'Lorre'}\n",
    "get_my_hero_team(hero_team, number)"
   ]
  },
  {
   "cell_type": "code",
   "execution_count": null,
   "metadata": {
    "colab": {
     "base_uri": "https://localhost:8080/"
    },
    "id": "LEJn4r3qY0Up",
    "outputId": "0f65bfb8-6f98-463b-f464-ebbd2cab9b24"
   },
   "outputs": [],
   "source": [
    "number"
   ]
  },
  {
   "cell_type": "code",
   "execution_count": null,
   "metadata": {
    "colab": {
     "base_uri": "https://localhost:8080/"
    },
    "id": "pCsjz_TsY1oI",
    "outputId": "a4b903ab-0271-4de3-e116-20e3d5951d92"
   },
   "outputs": [],
   "source": [
    "hero_team"
   ]
  },
  {
   "cell_type": "markdown",
   "metadata": {
    "id": "qothvUNBGDZE"
   },
   "source": [
    "## Переменное число аргументов\n",
    "\n",
    "Переменное кол-во аргументов в Python реализуется следующим образом:"
   ]
  },
  {
   "cell_type": "code",
   "execution_count": null,
   "metadata": {
    "id": "IXgC3fo3GDZE"
   },
   "outputs": [],
   "source": [
    "def foo(a, b, *args):\n",
    "    print('a =', a, 'b =', b, 'args =', args)"
   ]
  },
  {
   "cell_type": "code",
   "execution_count": null,
   "metadata": {
    "colab": {
     "base_uri": "https://localhost:8080/"
    },
    "id": "oZv5FNRxZAgB",
    "outputId": "1df02624-ab0b-493a-fa42-8fa8cbda5fc8"
   },
   "outputs": [],
   "source": [
    "foo(1, 'b')"
   ]
  },
  {
   "cell_type": "code",
   "execution_count": null,
   "metadata": {
    "colab": {
     "base_uri": "https://localhost:8080/"
    },
    "id": "baSwa51gZBv3",
    "outputId": "f623f8fb-6380-4424-cf02-b243772abbfb"
   },
   "outputs": [],
   "source": [
    "foo(1, 'b', 0.5)"
   ]
  },
  {
   "cell_type": "code",
   "execution_count": null,
   "metadata": {
    "colab": {
     "base_uri": "https://localhost:8080/"
    },
    "id": "54Flnd_GZCo-",
    "outputId": "75546458-a2c8-499d-bed5-70f20d77bb20"
   },
   "outputs": [],
   "source": [
    "foo(1, 'b', [1, 2], 0.5)"
   ]
  },
  {
   "cell_type": "markdown",
   "metadata": {
    "id": "G6s2JHMyGDZE"
   },
   "source": [
    "`*args` может быть указан и не последним, но тогда все последующие аргументы должны быть указаны с ключевыми словами при вызове:"
   ]
  },
  {
   "cell_type": "code",
   "execution_count": null,
   "metadata": {
    "id": "m14oKzdOGDZF"
   },
   "outputs": [],
   "source": [
    "def foo(a, *args, b):\n",
    "    print('a =', a, 'b =', b, 'args =', args)"
   ]
  },
  {
   "cell_type": "code",
   "execution_count": null,
   "metadata": {
    "colab": {
     "base_uri": "https://localhost:8080/"
    },
    "id": "tZrYEe_MZL-3",
    "outputId": "32cd8891-6d4e-4260-9ade-5c4c010383fb"
   },
   "outputs": [],
   "source": [
    "foo(1, [1, 2], 0.5, b='b')"
   ]
  },
  {
   "cell_type": "code",
   "execution_count": null,
   "metadata": {
    "colab": {
     "base_uri": "https://localhost:8080/",
     "height": 168
    },
    "id": "CUt_9eaCZM22",
    "outputId": "cfe7dce9-3686-46cb-d651-a779cc084ce2"
   },
   "outputs": [],
   "source": [
    "foo(1, [1, 2], 0.5, 'b')"
   ]
  },
  {
   "cell_type": "markdown",
   "metadata": {
    "id": "CD79zDnVGDZF"
   },
   "source": [
    "Переменное кол-во аргументов с ключевыми словами реализуется следующим образом:"
   ]
  },
  {
   "cell_type": "code",
   "execution_count": null,
   "metadata": {
    "id": "MVP6RGuPGDZF"
   },
   "outputs": [],
   "source": [
    "def foo(a, b=0.5, **kwargs):\n",
    "    print('a =', a, 'b =', b, 'kwargs =', kwargs)"
   ]
  },
  {
   "cell_type": "code",
   "execution_count": null,
   "metadata": {
    "colab": {
     "base_uri": "https://localhost:8080/"
    },
    "id": "fIz1YIfqZdXa",
    "outputId": "d515575a-6996-4a26-d274-b6747547485a"
   },
   "outputs": [],
   "source": [
    "foo(1, c='c')"
   ]
  },
  {
   "cell_type": "code",
   "execution_count": null,
   "metadata": {
    "colab": {
     "base_uri": "https://localhost:8080/"
    },
    "id": "le4m22z2ZeXS",
    "outputId": "b9e2b41f-4073-4800-9021-48792e31aaf6"
   },
   "outputs": [],
   "source": [
    "foo(1, c='c', b='b')"
   ]
  },
  {
   "cell_type": "code",
   "execution_count": null,
   "metadata": {
    "colab": {
     "base_uri": "https://localhost:8080/"
    },
    "id": "sKAugxyjZfLg",
    "outputId": "e609b66a-73f6-467e-8f07-3f9da44cf27a"
   },
   "outputs": [],
   "source": [
    "foo(1, 'b', c='c', d='d')"
   ]
  },
  {
   "cell_type": "markdown",
   "metadata": {
    "id": "UBS7dDFoGDZG"
   },
   "source": [
    "В общем случае переменное кол-во аргументов реализуется следующим образом:"
   ]
  },
  {
   "cell_type": "code",
   "execution_count": null,
   "metadata": {
    "id": "MI-WdJs6GDZG"
   },
   "outputs": [],
   "source": [
    "def foo(*args, **kwargs):\n",
    "    print('args =', args, 'kwargs =', kwargs)"
   ]
  },
  {
   "cell_type": "code",
   "execution_count": null,
   "metadata": {
    "colab": {
     "base_uri": "https://localhost:8080/"
    },
    "id": "LTkqAYf1Zihk",
    "outputId": "ecfcc1e5-6ddb-4501-8b91-842380982559"
   },
   "outputs": [],
   "source": [
    "foo(1, 'a', x=0.5, y=[3, 4])"
   ]
  },
  {
   "cell_type": "code",
   "execution_count": null,
   "metadata": {
    "colab": {
     "base_uri": "https://localhost:8080/"
    },
    "id": "hZWyL3muZjqu",
    "outputId": "1943c598-430a-4d13-b6de-6d9663374c0b"
   },
   "outputs": [],
   "source": [
    "foo(*[1, 'a'], **{'x' : 0.5, 'y': [3, 4]})"
   ]
  },
  {
   "cell_type": "code",
   "execution_count": null,
   "metadata": {
    "colab": {
     "base_uri": "https://localhost:8080/"
    },
    "id": "uwNaPIL9gs-m",
    "outputId": "5e8ac96f-a75d-4cbe-9542-d9b0e2547cdd"
   },
   "outputs": [],
   "source": [
    "print([1,2,3])\n",
    "print(*[1,2,3])"
   ]
  },
  {
   "cell_type": "markdown",
   "metadata": {
    "id": "vj3iH5ORGDZG"
   },
   "source": [
    "## Рекурсия"
   ]
  },
  {
   "cell_type": "markdown",
   "metadata": {
    "id": "87GniuoqZqzE"
   },
   "source": [
    "Внутри функции можно вызывать ее саму, тем самым получая рекурсию: "
   ]
  },
  {
   "cell_type": "code",
   "execution_count": null,
   "metadata": {
    "colab": {
     "base_uri": "https://localhost:8080/"
    },
    "id": "pCRZstL-GDZG",
    "outputId": "6eec1c87-efb4-4ff4-cc05-393612be02c9"
   },
   "outputs": [],
   "source": [
    "def easy_sort(x: list) -> list:\n",
    "    if not x:\n",
    "        return x\n",
    "    \n",
    "    first = min(x)\n",
    "    x.remove(first)\n",
    "    #return [first] + easy_sort(x)\n",
    "    return 0\n",
    "\n",
    "    \n",
    "easy_sort([4, 2, 3, 1, 7, 5])"
   ]
  },
  {
   "cell_type": "markdown",
   "metadata": {
    "id": "jzp_FK7tGDZL"
   },
   "source": [
    "# Анонимные функции"
   ]
  },
  {
   "cell_type": "markdown",
   "metadata": {
    "id": "HRu-aul8aocP"
   },
   "source": [
    "**Анонимная функция** - особый вид функций, которые объявляются в месте использования и не получают уникального идентификатора для доступа к ним. \n",
    "\n",
    "Реализована в Python как **лямбда-функция**. Лямбда-функция может принимать любое кол-во аргументов, но имеет только одно выражение."
   ]
  },
  {
   "cell_type": "code",
   "execution_count": null,
   "metadata": {
    "id": "3uqsC4XbGDZL",
    "outputId": "f4b29e04-493c-4918-e4ac-c7046eb85812"
   },
   "outputs": [],
   "source": [
    "lambda x, y: print(x, y)"
   ]
  },
  {
   "cell_type": "code",
   "execution_count": null,
   "metadata": {
    "colab": {
     "base_uri": "https://localhost:8080/"
    },
    "id": "0YtFGQZDGDZL",
    "outputId": "d09a1a43-44eb-4987-fbc8-1a14b78a8521"
   },
   "outputs": [],
   "source": [
    "list(map(lambda x: x**2, range(10)))"
   ]
  },
  {
   "cell_type": "code",
   "execution_count": null,
   "metadata": {
    "colab": {
     "base_uri": "https://localhost:8080/"
    },
    "id": "opFpEOfQkDoT",
    "outputId": "0e501362-12a1-4a8f-a2c3-a77bf60954dd"
   },
   "outputs": [],
   "source": [
    "sorted([1, 2, 3, 4], reverse=True)"
   ]
  },
  {
   "cell_type": "code",
   "execution_count": null,
   "metadata": {
    "colab": {
     "base_uri": "https://localhost:8080/"
    },
    "id": "daQeg2kgGDZL",
    "outputId": "65fb9360-5cc0-4487-b165-f51d49f4dcf1"
   },
   "outputs": [],
   "source": [
    "sorted([(1, \"eliza\"), (2, \"george\"),(2, \"barry\"), (3, \"abba\"), (4, \"presley\")])"
   ]
  },
  {
   "cell_type": "code",
   "execution_count": null,
   "metadata": {
    "colab": {
     "base_uri": "https://localhost:8080/"
    },
    "id": "Tknp4bGtk72v",
    "outputId": "198ba579-8baa-4dd2-8c51-03dabb9e1078"
   },
   "outputs": [],
   "source": [
    "sorted([(1, \"eliza\"), (2, \"george\"),(2, \"barry\"), (3, \"abba\"), (4, \"presley\")], key=lambda x: x[1])"
   ]
  },
  {
   "cell_type": "code",
   "execution_count": null,
   "metadata": {},
   "outputs": [],
   "source": [
    "nums = [1, 2, 3, 4, 5, 6, 7, 8, 9, 10]\n",
    "list(filter(lambda x: x % 2 == 0, nums))"
   ]
  },
  {
   "cell_type": "markdown",
   "metadata": {
    "id": "_UKCNfFHGDZH"
   },
   "source": [
    "# Генераторы"
   ]
  },
  {
   "cell_type": "markdown",
   "metadata": {
    "id": "fX3vKhpba0ye"
   },
   "source": [
    "**Генератор** — это объект, который сразу при создании не вычисляет значения всех своих элементов, а хранит только последний вычисленный элемент, правило перехода к следующему и условие, при котором выполнение прерывается.\n",
    "\n",
    "Вспомним определения:\n",
    "- **Iterator** - объект с методом \\_\\_next\\_\\_()\n",
    "- **Iterable** - объект с методом \\_\\_iter\\_\\_(), который возвращает Iterator"
   ]
  },
  {
   "cell_type": "markdown",
   "metadata": {
    "id": "3EFFks5ja2aU"
   },
   "source": [
    "Создавать генераторы можно двумя способами:\n",
    "1. Генераторные выражения"
   ]
  },
  {
   "cell_type": "code",
   "execution_count": null,
   "metadata": {
    "colab": {
     "base_uri": "https://localhost:8080/"
    },
    "id": "f_SDqPGYGDZH",
    "outputId": "1a81d821-2759-438e-fd9d-c93cc4c4962e"
   },
   "outputs": [],
   "source": [
    "gen = (x**2 for x in range(10))\n",
    "type(gen)"
   ]
  },
  {
   "cell_type": "code",
   "execution_count": null,
   "metadata": {
    "colab": {
     "base_uri": "https://localhost:8080/"
    },
    "id": "MIu48lOimLxl",
    "outputId": "9e85b829-57dd-4c85-8ff7-bfda38c56376"
   },
   "outputs": [],
   "source": [
    "next(gen)"
   ]
  },
  {
   "cell_type": "markdown",
   "metadata": {
    "id": "ktPJ6oLfGDZI"
   },
   "source": [
    "2. Генераторные функции"
   ]
  },
  {
   "cell_type": "code",
   "execution_count": null,
   "metadata": {
    "id": "Gvkh8D2UGDZJ"
   },
   "outputs": [],
   "source": [
    "def foo(x):\n",
    "    print('I am the generator!')\n",
    "    for value in x:\n",
    "        yield value"
   ]
  },
  {
   "cell_type": "code",
   "execution_count": null,
   "metadata": {
    "colab": {
     "base_uri": "https://localhost:8080/"
    },
    "id": "CfjBb1iobUwE",
    "outputId": "db608c27-a380-46d8-bae7-41057c99d655"
   },
   "outputs": [],
   "source": [
    "values = ['Hello', 'world!']\n",
    "        \n",
    "#foo - generator function\n",
    "#foo() - generator\n",
    "        \n",
    "for value in foo(values):\n",
    "    print(value, end=' ')"
   ]
  },
  {
   "cell_type": "markdown",
   "metadata": {
    "id": "eaX3AvsSGDZJ"
   },
   "source": [
    "В генераторных функциях для возвращения элемента используется ключевое слово `yield`. Оно похоже на `return`, но в отличие от него не завершает работу функции, а лишь приостанавливает её."
   ]
  },
  {
   "cell_type": "markdown",
   "metadata": {
    "id": "AZ2Ld02HGDZJ"
   },
   "source": [
    "**Пример** - кубы натуральных чисел:"
   ]
  },
  {
   "cell_type": "code",
   "execution_count": null,
   "metadata": {
    "id": "rh_yyJdtGDZJ"
   },
   "outputs": [],
   "source": [
    "def cubes(x):\n",
    "    for value in x:\n",
    "        yield value ** 3"
   ]
  },
  {
   "cell_type": "code",
   "execution_count": null,
   "metadata": {
    "colab": {
     "base_uri": "https://localhost:8080/"
    },
    "id": "DAuVzfzQbPxJ",
    "outputId": "d6d6e5e9-67dd-4701-867f-03db081d8692"
   },
   "outputs": [],
   "source": [
    "for value in cubes(range(10)):\n",
    "    print(value, end=' ')"
   ]
  },
  {
   "cell_type": "markdown",
   "metadata": {
    "id": "GI66VqreGDZJ"
   },
   "source": [
    "Генератор может быть бесконечным"
   ]
  },
  {
   "cell_type": "code",
   "execution_count": null,
   "metadata": {
    "id": "BiEITgYLGDZJ"
   },
   "outputs": [],
   "source": [
    "def cubes():\n",
    "    i = 0\n",
    "    while True:\n",
    "        yield i ** 3\n",
    "        i += 1"
   ]
  },
  {
   "cell_type": "code",
   "execution_count": null,
   "metadata": {
    "colab": {
     "base_uri": "https://localhost:8080/"
    },
    "id": "3ahCHVHgbs_q",
    "outputId": "31f2085c-d685-482f-a7c0-d6f5236cee3c"
   },
   "outputs": [],
   "source": [
    "gen = cubes()\n",
    "for value in gen:\n",
    "    print(value, end=' ')\n",
    "    \n",
    "    if value > 100:\n",
    "        break"
   ]
  },
  {
   "cell_type": "code",
   "execution_count": null,
   "metadata": {
    "colab": {
     "base_uri": "https://localhost:8080/"
    },
    "id": "XWvBizhcbyWz",
    "outputId": "28643e5e-6042-4f4f-fc81-5983f6b9b875"
   },
   "outputs": [],
   "source": [
    "next(gen)"
   ]
  },
  {
   "cell_type": "markdown",
   "metadata": {
    "id": "K9tjTq7nGDZK"
   },
   "source": [
    "# Практика"
   ]
  },
  {
   "cell_type": "markdown",
   "metadata": {
    "id": "G8Usmc83b8sU"
   },
   "source": [
    "## Задача"
   ]
  },
  {
   "cell_type": "markdown",
   "metadata": {
    "id": "RSnH0cdsb_U7"
   },
   "source": [
    "Написать генератор `limit(generator, max_count)`. Возвращает не более `max_count` значений генератора `generator`."
   ]
  },
  {
   "cell_type": "code",
   "execution_count": null,
   "metadata": {
    "id": "nxOPhpnOGDZK"
   },
   "outputs": [],
   "source": [
    "def limit_fn(gen, lim):\n",
    "    # YOUR CODE HERE"
   ]
  },
  {
   "cell_type": "code",
   "execution_count": null,
   "metadata": {
    "colab": {
     "base_uri": "https://localhost:8080/"
    },
    "id": "xktYYNQeGDZK",
    "outputId": "14cc8f92-52ad-45b5-9c02-77ddba9bf814"
   },
   "outputs": [],
   "source": [
    "for value in limit_fn(cubes(), 10):\n",
    "    print(value, end=' ')"
   ]
  },
  {
   "cell_type": "markdown",
   "metadata": {
    "id": "7f-8nE6UGDZM"
   },
   "source": [
    "# Пространства имен"
   ]
  },
  {
   "cell_type": "markdown",
   "metadata": {
    "id": "ce9ycrK4fSaS"
   },
   "source": [
    "**Пространство имен** (namespace) - набор определенных на момент имен объектов вместе с информацией об этих объектах.\n",
    "\n",
    "Как говорится в **The Zen of Python**:\n",
    "\n",
    ">Namespaces are one honking great idea—let’s do more of those!\n",
    "\n",
    "Для доступа к пространству имен используются следующие команды:\n",
    "- `locals()` - возвращает текущий namespace в виде словаря\n",
    "- `globals()` - возвращает namespace модуля"
   ]
  },
  {
   "cell_type": "code",
   "execution_count": null,
   "metadata": {
    "id": "n-fpEinVGDZN",
    "outputId": "087a02e7-31c3-48a6-a4a7-9cb72e6e9fe1"
   },
   "outputs": [],
   "source": [
    "value = 42\n",
    "print(globals()['value'])\n",
    "\n",
    "globals()['value'] = 100500\n",
    "print(value)"
   ]
  },
  {
   "cell_type": "markdown",
   "metadata": {
    "id": "Zb3xgjZjGDZN"
   },
   "source": [
    "Циклы и условия не создают своё пространство имён"
   ]
  },
  {
   "cell_type": "code",
   "execution_count": null,
   "metadata": {
    "id": "bTNpvhZjGDZN",
    "outputId": "d0fe1d95-0782-4ec0-f357-ac585801f69c"
   },
   "outputs": [],
   "source": [
    "if True:\n",
    "    value_assigned_in_if = 1\n",
    "    \n",
    "for loop_counter in range(1):\n",
    "    value_assigned_in_for = 2\n",
    "    \n",
    "print(loop_counter)\n",
    "print(value_assigned_in_if)\n",
    "print(value_assigned_in_for)"
   ]
  },
  {
   "cell_type": "markdown",
   "metadata": {
    "id": "ebjPcQM1GDZN"
   },
   "source": [
    "Функции создают своё пространство имён"
   ]
  },
  {
   "cell_type": "code",
   "execution_count": null,
   "metadata": {
    "colab": {
     "base_uri": "https://localhost:8080/"
    },
    "id": "LTpcWlQxGDZN",
    "outputId": "474ffa5a-2ee8-43d6-cbeb-a5ba62be8e34"
   },
   "outputs": [],
   "source": [
    "value = 0\n",
    "\n",
    "def foo():\n",
    "    value = 1\n",
    "    print(value)\n",
    "    \n",
    "    print('locals:', locals()['value'])\n",
    "    print('globals:', globals()['value'])\n",
    "    \n",
    "foo()\n",
    "print(value)"
   ]
  },
  {
   "cell_type": "markdown",
   "metadata": {
    "id": "jN9RTzgXGDZN"
   },
   "source": [
    "# Область видимости (scope)\n",
    "\n",
    "\n",
    "Поскольку существуют несколько отдельных пространств имен, то возможно объявить несколько переменных с одинаковым именем, но в разных пространствах имен. Отсюда возникает вопрос - как Python узнает, к которой из переменных ты обращаешься при вызове?\n",
    "\n",
    "В Python существует такая вещь как область видимости. **Область видимости** (scope) - участок программы, в которой доступна созданная в ней переменная. Существует 4 типа областей видимостей:\n",
    "\n",
    "- **Local** - имена, определенные внутри функции (и не помеченные `global`)\n",
    "- **Enclosing-function locals** - имена в области видимости всех оборачивающих (`enclosing`) функций, в порядке уменьшения глубины\n",
    "- **Global** - имена, определенные на уровне модуля или посредством `global`\n",
    "- **Built-in** - предопределенные (`range`, `open`, ...)\n",
    "\n",
    "Когда Python ищет переменну по имени, он обходит области видимости в порядке **LEGB**, это называют **LEGB-правилом**."
   ]
  },
  {
   "cell_type": "markdown",
   "metadata": {
    "id": "90jzAiRkGDZO"
   },
   "source": [
    "Пример **LEGB**:"
   ]
  },
  {
   "cell_type": "code",
   "execution_count": null,
   "metadata": {
    "colab": {
     "base_uri": "https://localhost:8080/"
    },
    "id": "oVjGpSPWGDZO",
    "outputId": "312820f8-2b0d-46d8-cecb-4a620f773c99"
   },
   "outputs": [],
   "source": [
    "def foo():\n",
    "    def bar():\n",
    "        print('built-in:', range)\n",
    "    bar()\n",
    "foo()\n",
    "\n",
    "range_var = 'global range'\n",
    "\n",
    "def foo():\n",
    "    def bar():\n",
    "        print('global:', range_var)\n",
    "    bar()\n",
    "foo()\n",
    "        \n",
    "def foo():\n",
    "    range_var = 'enclosing-function range'\n",
    "    def bar():\n",
    "        print('enclosing-function:', range_var)\n",
    "    bar()\n",
    "foo()\n",
    "\n",
    "def foo():\n",
    "    range_var = 'enclosing-function range'\n",
    "    def bar():\n",
    "        range_var = 'local range'\n",
    "        print('local:', range_var)\n",
    "    bar()\n",
    "foo()"
   ]
  },
  {
   "cell_type": "markdown",
   "metadata": {
    "id": "uwCORCf-GDZO"
   },
   "source": [
    "## Ключевое слово global\n",
    "\n",
    "Если необходимо работать с глобальной переменной, но находимся в локальной области видимости, можем использовать ключевое слово `global`:"
   ]
  },
  {
   "cell_type": "code",
   "execution_count": null,
   "metadata": {
    "id": "K7GDSRJeGDZQ",
    "outputId": "1cb47ad8-34d6-4e72-ba63-73b68cb5ab6e"
   },
   "outputs": [],
   "source": [
    "value = 1\n",
    "\n",
    "def foo():\n",
    "    value = 2\n",
    "    \n",
    "    def bar():\n",
    "        global value\n",
    "        value = 3\n",
    "    \n",
    "    bar()\n",
    "    print('enclosing scope value', value)\n",
    "    \n",
    "foo()\n",
    "print('global value', value)"
   ]
  },
  {
   "cell_type": "markdown",
   "metadata": {
    "id": "gIHB9WUSGDZQ"
   },
   "source": [
    "## Ключевое слово nonlocal\n",
    "\n",
    "Аналогично, ключевое слово `nonlocal` позволяет получить доступ к переменной на enclosing уровне:"
   ]
  },
  {
   "cell_type": "code",
   "execution_count": null,
   "metadata": {
    "id": "go6p0O5gGDZQ",
    "outputId": "2e008041-bc24-4c35-873c-434cc0a80621"
   },
   "outputs": [],
   "source": [
    "value = 1\n",
    "\n",
    "def foo():\n",
    "    value = 2\n",
    "    \n",
    "    def bar():\n",
    "        nonlocal value\n",
    "        value = 3\n",
    "    \n",
    "    bar()\n",
    "    print('enclosing scope value', value)\n",
    "    \n",
    "foo()\n",
    "print('global value', value)"
   ]
  },
  {
   "cell_type": "markdown",
   "metadata": {
    "id": "P7V8a_6pGDZQ"
   },
   "source": [
    "# Замыкания"
   ]
  },
  {
   "cell_type": "markdown",
   "metadata": {
    "id": "PTiDZktHfcDh"
   },
   "source": [
    "**Замыкание** (closure) — это функция, в теле которой присутствуют ссылки на переменные, объявленные вне тела этой функции в окружающем коде и не являющиеся ее параметрами."
   ]
  },
  {
   "cell_type": "markdown",
   "metadata": {
    "id": "k-ZWdDOyf_Db"
   },
   "source": [
    "Существования замыканий следует из правила LEGB, возможности оперировать с функциями как обьектами и того что области видимости в Питоне - статические."
   ]
  },
  {
   "cell_type": "code",
   "execution_count": null,
   "metadata": {
    "id": "--nFnzXTGDZQ",
    "outputId": "7d114fd2-4b92-4472-a301-d12d7c61b5bf"
   },
   "outputs": [],
   "source": [
    "multipliers = []\n",
    "\n",
    "for m in range(5):\n",
    "    multipliers.append(lambda x: x * m)\n",
    "\n",
    "print([multipliers[i](5) for i in range(5)])"
   ]
  },
  {
   "cell_type": "markdown",
   "metadata": {
    "id": "nkQIq-XvGDZR"
   },
   "source": [
    "Почему? Перепишем в виде функции, чтобы стало понятнее:"
   ]
  },
  {
   "cell_type": "code",
   "execution_count": null,
   "metadata": {
    "id": "RyS_RMNcGDZR",
    "outputId": "1f830dfc-694d-45b1-896f-5f018290866f"
   },
   "outputs": [],
   "source": [
    "multipliers = []\n",
    "\n",
    "def foo(x):\n",
    "    return x * m\n",
    "\n",
    "for m in range(5):\n",
    "    multipliers.append(foo)\n",
    "\n",
    "print(m)\n",
    "print([multipliers[i](5) for i in range(5)])"
   ]
  },
  {
   "cell_type": "code",
   "execution_count": null,
   "metadata": {
    "id": "MXMfwUphGDZR",
    "outputId": "f8c348c8-e1d8-41c5-b0da-00cba60fbb93"
   },
   "outputs": [],
   "source": [
    "def make_adder(x):\n",
    "    def adder(y):\n",
    "        return x + y\n",
    "    return adder\n",
    "\n",
    "add_two = make_adder(2)\n",
    "\n",
    "print(add_two(5))\n",
    "print(add_two(7))"
   ]
  },
  {
   "cell_type": "markdown",
   "metadata": {
    "id": "ncj9x2B9GDZR"
   },
   "source": [
    "В таком случае можем исправить предыдущий пример:"
   ]
  },
  {
   "cell_type": "code",
   "execution_count": null,
   "metadata": {
    "id": "9H-YuEbIGDZS",
    "outputId": "f061783f-e081-4b44-edbd-7023bd2d07e1"
   },
   "outputs": [],
   "source": [
    "multipliers = []\n",
    "\n",
    "def make_mult(m):\n",
    "    def mult(x):\n",
    "        return x*m\n",
    "    return mult\n",
    "    \n",
    "for m in range(5):\n",
    "    multipliers.append(make_mult(m))\n",
    "    \n",
    "print([multipliers[i](5) for i in range(5)])"
   ]
  },
  {
   "cell_type": "markdown",
   "metadata": {
    "id": "foYGYyIFGDZS"
   },
   "source": [
    "Функции могут замыкать одинаковые переменные"
   ]
  },
  {
   "cell_type": "code",
   "execution_count": null,
   "metadata": {
    "id": "wA91WuqFGDZS",
    "outputId": "2241a655-8306-445f-c1f1-6099946c7c04"
   },
   "outputs": [],
   "source": [
    "def cell(value = 0):\n",
    "    def Get():\n",
    "        return value\n",
    "    \n",
    "    def Set(new_value):\n",
    "        nonlocal value\n",
    "        value = new_value\n",
    "        return value\n",
    "    \n",
    "    return Get, Set\n",
    "\n",
    "Get, Set = cell(10)\n",
    "print(Get())\n",
    "\n",
    "Set(20)\n",
    "print(Get())"
   ]
  },
  {
   "cell_type": "markdown",
   "metadata": {
    "id": "47DgfLHmGDZS"
   },
   "source": [
    "# Декораторы"
   ]
  },
  {
   "cell_type": "markdown",
   "metadata": {
    "id": "eKCpUmokh67K"
   },
   "source": [
    "Замыкания как способ быстро изменить поведение функции:"
   ]
  },
  {
   "cell_type": "code",
   "execution_count": null,
   "metadata": {
    "id": "834E9nYBGDZT",
    "outputId": "f1f8c093-2e49-4412-c5d2-e6e4752009d8"
   },
   "outputs": [],
   "source": [
    "import sys\n",
    "\n",
    "def deprecate(func):\n",
    "    def inner(*args, **kwargs):\n",
    "        print('{} is deprecated'.format(func.__name__), file=sys.stderr)\n",
    "        return func(*args, **kwargs)\n",
    "    return inner\n",
    "\n",
    "pprint = deprecate(print)\n",
    "\n",
    "pprint([1, 2, 3])"
   ]
  },
  {
   "cell_type": "markdown",
   "metadata": {
    "id": "76zm2TgMGDZT"
   },
   "source": [
    "Такой синтаксис немного неудобный, поэтому в Python есть более удобный способ реализовать декоратор:"
   ]
  },
  {
   "cell_type": "code",
   "execution_count": null,
   "metadata": {
    "id": "b5mAQVZqGDZT",
    "outputId": "07b4acfe-84e5-457b-b1da-15b53503f326"
   },
   "outputs": [],
   "source": [
    "import sys\n",
    "\n",
    "def deprecated(func):\n",
    "    def wrapper(*args, **kwargs):\n",
    "        print('{} is deprecated'.format(func.__name__), file=sys.stderr)\n",
    "        return func(*args, **kwargs)\n",
    "    return wrapper\n",
    "\n",
    "\n",
    "@deprecated\n",
    "def show(x):\n",
    "    print(x)\n",
    "\n",
    "show([1, 2, 3])"
   ]
  },
  {
   "cell_type": "markdown",
   "metadata": {
    "id": "HFYneCwPGDZT"
   },
   "source": [
    "Однако такое использование влечет за собой проблему:"
   ]
  },
  {
   "cell_type": "code",
   "execution_count": null,
   "metadata": {
    "id": "NswsMf6PGDZT",
    "outputId": "c6dab478-ed46-4033-bdca-8392a4016a4a"
   },
   "outputs": [],
   "source": [
    "@deprecated\n",
    "def show(x):\n",
    "    'This is a really nice looking docstring'\n",
    "    print(x)\n",
    "\n",
    "print(show.__name__)\n",
    "print(show.__doc__)"
   ]
  },
  {
   "cell_type": "markdown",
   "metadata": {
    "id": "l1HhVIkEGDZT"
   },
   "source": [
    "Хотим сохранить информацию об обернутой функции."
   ]
  },
  {
   "cell_type": "markdown",
   "metadata": {
    "id": "6A0GGIQlGDZT"
   },
   "source": [
    "**Решение 1.** Просто перенести нужные атрибуты"
   ]
  },
  {
   "cell_type": "code",
   "execution_count": null,
   "metadata": {
    "id": "K-MUhubUGDZT",
    "outputId": "905e8bf9-a9aa-425e-f313-605368d3bdc3"
   },
   "outputs": [],
   "source": [
    "def deprecated(func):\n",
    "    def wrapper(*args, **kwargs):\n",
    "        print('{} is deprecated!'.format(func.__name__), file=sys.stderr)\n",
    "        return func(*args, **kwargs)\n",
    "    wrapper.__name__ = func.__name__\n",
    "    wrapper.__doc__ = func.__doc__\n",
    "    wrapper.__module__ = func.__module__\n",
    "    return wrapper\n",
    "\n",
    "@deprecated\n",
    "def show(x):\n",
    "    'This is a really nice looking docstring'\n",
    "    print(x)\n",
    "\n",
    "print(show.__name__)\n",
    "print(show.__doc__)"
   ]
  },
  {
   "cell_type": "markdown",
   "metadata": {
    "id": "kKfIk5WvGDZU"
   },
   "source": [
    "**Решение 2.** Использовать functools"
   ]
  },
  {
   "cell_type": "code",
   "execution_count": null,
   "metadata": {
    "id": "gYjyGWe2GDZU",
    "outputId": "dc911cb9-e7d5-4c95-b802-662c1014448e"
   },
   "outputs": [],
   "source": [
    "import functools\n",
    "\n",
    "def deprecated(func):\n",
    "    @functools.wraps(func) \n",
    "    def wrapper(*args, **kwargs):\n",
    "        print('{} is deprecated!'.format(func.__name__), file=sys.stderr)\n",
    "        return func(*args, **kwargs)\n",
    "    return wrapper\n",
    "\n",
    "@deprecated\n",
    "def show(x):\n",
    "    'This is a really nice looking docstring'\n",
    "    print(x)\n",
    "\n",
    "print(show.__name__)\n",
    "print(show.__doc__)"
   ]
  },
  {
   "cell_type": "markdown",
   "metadata": {
    "id": "5yNZPeygGDZU"
   },
   "source": [
    "## Декораторы с аргументами"
   ]
  },
  {
   "cell_type": "markdown",
   "metadata": {
    "id": "0mFvzft-iDwt"
   },
   "source": [
    "В Python так же можно создавать декораторы с дополнительными аргументами:"
   ]
  },
  {
   "cell_type": "code",
   "execution_count": null,
   "metadata": {
    "id": "i5i9O9TkGDZU",
    "outputId": "2d2f7ec0-6b29-4649-fd1e-9dac58f113d4"
   },
   "outputs": [],
   "source": [
    "def trace(dest=sys.stderr):\n",
    "    def wraps(func):\n",
    "        @functools.wraps(func)\n",
    "        def wrapper(*args, **kwargs):\n",
    "            print('{} called with args {}, kwargs {}!'.format(func.__name__, args, kwargs), file = dest)\n",
    "            return func(*args, **kwargs)\n",
    "        return wrapper\n",
    "    return wraps\n",
    "\n",
    "@trace(sys.stdout) \n",
    "def f(x, test):\n",
    "    if test > 1:\n",
    "        return f(x, test / 2)\n",
    "\n",
    "f('Hi!', test=42)"
   ]
  },
  {
   "cell_type": "markdown",
   "metadata": {
    "id": "WX5Ao4WWGDZU"
   },
   "source": [
    "## Задача"
   ]
  },
  {
   "cell_type": "markdown",
   "metadata": {
    "id": "1zVAy4dciGa5"
   },
   "source": [
    "Написать декоратор `once(func)`, который вызывает функцию только один раз."
   ]
  },
  {
   "cell_type": "code",
   "execution_count": null,
   "metadata": {
    "id": "bdeokWknGDZU"
   },
   "outputs": [],
   "source": [
    "def once(func):\n",
    "    # YOUR CODE HERE\n",
    "    return wrapper"
   ]
  },
  {
   "cell_type": "code",
   "execution_count": null,
   "metadata": {
    "id": "hicgEeC5GDZU",
    "outputId": "5a928ebe-119b-4fa7-e8e6-b2a3d5b67e55"
   },
   "outputs": [],
   "source": [
    "@once\n",
    "def foo():\n",
    "    print('Hi!')\n",
    "\n",
    "foo()\n",
    "foo()"
   ]
  },
  {
   "cell_type": "markdown",
   "metadata": {
    "id": "STUKbsq_GDZV"
   },
   "source": [
    "# Обработка исключений"
   ]
  },
  {
   "cell_type": "code",
   "execution_count": null,
   "metadata": {
    "id": "gHnOfXwzGDZV",
    "outputId": "5487ba8c-e2ff-4650-f741-865bdf08d550"
   },
   "outputs": [],
   "source": [
    "arr = [1, 2, 3]\n",
    "\n",
    "try:\n",
    "    #arr[1] = 0\n",
    "    #arr[3] = 0\n",
    "    tuple(arr)[1] = 0\n",
    "    \n",
    "except IndexError:\n",
    "    print('except IndexError is executed if IndexError occurs in try')\n",
    "    \n",
    "except:\n",
    "    print('except is executed if not listed error occurs')\n",
    "    \n",
    "else:\n",
    "    print('else is executed if try worked')\n",
    "    \n",
    "finally:\n",
    "    print('finally is always executed')"
   ]
  }
 ],
 "metadata": {
  "celltoolbar": "Слайд-шоу",
  "colab": {
   "provenance": []
  },
  "kernelspec": {
   "display_name": "Python 3 (ipykernel)",
   "language": "python",
   "name": "python3"
  },
  "language_info": {
   "codemirror_mode": {
    "name": "ipython",
    "version": 3
   },
   "file_extension": ".py",
   "mimetype": "text/x-python",
   "name": "python",
   "nbconvert_exporter": "python",
   "pygments_lexer": "ipython3",
   "version": "3.10.10"
  }
 },
 "nbformat": 4,
 "nbformat_minor": 1
}
